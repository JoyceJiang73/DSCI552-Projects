{
 "cells": [
  {
   "cell_type": "markdown",
   "metadata": {},
   "source": [
    "### The Logistic Regression Classification involves the following tasks:\n",
    "\n",
    "Step 1: Quick Overview of the Data Structure\n",
    "\n",
    "Step 2: Prepare Dataset (Training, Validation, and Test Data)\n",
    "\n",
    "Step 3: Discover and Visualize the Data\n",
    "\n",
    "Step 4: Data Preprocessing\n",
    "\n",
    "Step 5: Model Selection and Training\n",
    "\n",
    "Step 6: Evalute Models and Feature Importance on the Test Data"
   ]
  },
  {
   "cell_type": "markdown",
   "metadata": {},
   "source": [
    "Import libraries"
   ]
  },
  {
   "cell_type": "code",
   "execution_count": 125,
   "metadata": {},
   "outputs": [],
   "source": [
    "import os\n",
    "import pandas as pd\n",
    "import numpy as np\n",
    "\n",
    "%matplotlib inline \n",
    "import matplotlib.pyplot as plt"
   ]
  },
  {
   "cell_type": "markdown",
   "metadata": {},
   "source": [
    "Import the dataset "
   ]
  },
  {
   "cell_type": "code",
   "execution_count": 126,
   "metadata": {},
   "outputs": [],
   "source": [
    "df=pd.read_csv('data/ps2_available_dataset.csv')"
   ]
  },
  {
   "cell_type": "markdown",
   "metadata": {},
   "source": [
    "### Step 1: Quick Overview of the Data Structure"
   ]
  },
  {
   "cell_type": "code",
   "execution_count": 127,
   "metadata": {},
   "outputs": [
    {
     "name": "stdout",
     "output_type": "stream",
     "text": [
      "<class 'pandas.core.frame.DataFrame'>\n",
      "RangeIndex: 10000 entries, 0 to 9999\n",
      "Data columns (total 11 columns):\n",
      " #   Column          Non-Null Count  Dtype  \n",
      "---  ------          --------------  -----  \n",
      " 0   treatment       10000 non-null  int64  \n",
      " 1   age             10000 non-null  int64  \n",
      " 2   blood_pressure  10000 non-null  float64\n",
      " 3   gender          10000 non-null  object \n",
      " 4   blood_test      10000 non-null  object \n",
      " 5   family_history  7068 non-null   object \n",
      " 6   MeasureA        10000 non-null  float64\n",
      " 7   TestB           10000 non-null  float64\n",
      " 8   GeneA           10000 non-null  object \n",
      " 9   GeneB           10000 non-null  int64  \n",
      " 10  GeneC           10000 non-null  int64  \n",
      "dtypes: float64(3), int64(4), object(4)\n",
      "memory usage: 859.5+ KB\n"
     ]
    }
   ],
   "source": [
    "#check variable types\n",
    "df.info()"
   ]
  },
  {
   "cell_type": "code",
   "execution_count": 128,
   "metadata": {},
   "outputs": [
    {
     "data": {
      "text/html": [
       "<div>\n",
       "<style scoped>\n",
       "    .dataframe tbody tr th:only-of-type {\n",
       "        vertical-align: middle;\n",
       "    }\n",
       "\n",
       "    .dataframe tbody tr th {\n",
       "        vertical-align: top;\n",
       "    }\n",
       "\n",
       "    .dataframe thead th {\n",
       "        text-align: right;\n",
       "    }\n",
       "</style>\n",
       "<table border=\"1\" class=\"dataframe\">\n",
       "  <thead>\n",
       "    <tr style=\"text-align: right;\">\n",
       "      <th></th>\n",
       "      <th>treatment</th>\n",
       "      <th>age</th>\n",
       "      <th>blood_pressure</th>\n",
       "      <th>gender</th>\n",
       "      <th>blood_test</th>\n",
       "      <th>family_history</th>\n",
       "      <th>MeasureA</th>\n",
       "      <th>TestB</th>\n",
       "      <th>GeneA</th>\n",
       "      <th>GeneB</th>\n",
       "      <th>GeneC</th>\n",
       "    </tr>\n",
       "  </thead>\n",
       "  <tbody>\n",
       "    <tr>\n",
       "      <th>0</th>\n",
       "      <td>1</td>\n",
       "      <td>74</td>\n",
       "      <td>94.113373</td>\n",
       "      <td>non-female</td>\n",
       "      <td>negative</td>\n",
       "      <td>False</td>\n",
       "      <td>-11.035690</td>\n",
       "      <td>-0.336843</td>\n",
       "      <td>double</td>\n",
       "      <td>1</td>\n",
       "      <td>0</td>\n",
       "    </tr>\n",
       "    <tr>\n",
       "      <th>1</th>\n",
       "      <td>1</td>\n",
       "      <td>56</td>\n",
       "      <td>83.337745</td>\n",
       "      <td>non-female</td>\n",
       "      <td>negative</td>\n",
       "      <td>False</td>\n",
       "      <td>-3.982345</td>\n",
       "      <td>-0.018734</td>\n",
       "      <td>none</td>\n",
       "      <td>1</td>\n",
       "      <td>1</td>\n",
       "    </tr>\n",
       "    <tr>\n",
       "      <th>2</th>\n",
       "      <td>0</td>\n",
       "      <td>37</td>\n",
       "      <td>81.759240</td>\n",
       "      <td>female</td>\n",
       "      <td>negative</td>\n",
       "      <td>False</td>\n",
       "      <td>6.205701</td>\n",
       "      <td>0.147933</td>\n",
       "      <td>double</td>\n",
       "      <td>1</td>\n",
       "      <td>1</td>\n",
       "    </tr>\n",
       "    <tr>\n",
       "      <th>3</th>\n",
       "      <td>1</td>\n",
       "      <td>54</td>\n",
       "      <td>88.549518</td>\n",
       "      <td>female</td>\n",
       "      <td>negative</td>\n",
       "      <td>False</td>\n",
       "      <td>-1.827613</td>\n",
       "      <td>-0.338373</td>\n",
       "      <td>none</td>\n",
       "      <td>1</td>\n",
       "      <td>1</td>\n",
       "    </tr>\n",
       "    <tr>\n",
       "      <th>4</th>\n",
       "      <td>0</td>\n",
       "      <td>73</td>\n",
       "      <td>82.171555</td>\n",
       "      <td>female</td>\n",
       "      <td>negative</td>\n",
       "      <td>NaN</td>\n",
       "      <td>-14.637389</td>\n",
       "      <td>-0.369325</td>\n",
       "      <td>none</td>\n",
       "      <td>1</td>\n",
       "      <td>1</td>\n",
       "    </tr>\n",
       "  </tbody>\n",
       "</table>\n",
       "</div>"
      ],
      "text/plain": [
       "   treatment  age  blood_pressure      gender blood_test family_history  \\\n",
       "0          1   74       94.113373  non-female   negative          False   \n",
       "1          1   56       83.337745  non-female   negative          False   \n",
       "2          0   37       81.759240      female   negative          False   \n",
       "3          1   54       88.549518      female   negative          False   \n",
       "4          0   73       82.171555      female   negative            NaN   \n",
       "\n",
       "    MeasureA     TestB   GeneA  GeneB  GeneC  \n",
       "0 -11.035690 -0.336843  double      1      0  \n",
       "1  -3.982345 -0.018734    none      1      1  \n",
       "2   6.205701  0.147933  double      1      1  \n",
       "3  -1.827613 -0.338373    none      1      1  \n",
       "4 -14.637389 -0.369325    none      1      1  "
      ]
     },
     "execution_count": 128,
     "metadata": {},
     "output_type": "execute_result"
    }
   ],
   "source": [
    "df.head()"
   ]
  },
  {
   "cell_type": "markdown",
   "metadata": {},
   "source": [
    "Snapshot of histogram for numerical variables (Geron, 2019)\n",
    "\n",
    "From the histograms below, we see that GeneB, GeneC and treatment are binary variables. MeasureA variable has a normal distribution, while TestB is right skewed, which means I need to standardize all independent numerical variables in the future steps."
   ]
  },
  {
   "cell_type": "code",
   "execution_count": 129,
   "metadata": {},
   "outputs": [
    {
     "data": {
      "image/png": "[encoded data removed]",
      "text/plain": [
       "<Figure size 1440x1080 with 9 Axes>"
      ]
     },
     "metadata": {
      "needs_background": "light"
     },
     "output_type": "display_data"
    }
   ],
   "source": [
    "df.hist(bins=50, figsize=(20,15)) \n",
    "plt.show()"
   ]
  },
  {
   "cell_type": "markdown",
   "metadata": {},
   "source": [
    "Descriptive information of the dataset"
   ]
  },
  {
   "cell_type": "code",
   "execution_count": 130,
   "metadata": {},
   "outputs": [
    {
     "data": {
      "text/html": [
       "<div>\n",
       "<style scoped>\n",
       "    .dataframe tbody tr th:only-of-type {\n",
       "        vertical-align: middle;\n",
       "    }\n",
       "\n",
       "    .dataframe tbody tr th {\n",
       "        vertical-align: top;\n",
       "    }\n",
       "\n",
       "    .dataframe thead th {\n",
       "        text-align: right;\n",
       "    }\n",
       "</style>\n",
       "<table border=\"1\" class=\"dataframe\">\n",
       "  <thead>\n",
       "    <tr style=\"text-align: right;\">\n",
       "      <th></th>\n",
       "      <th>treatment</th>\n",
       "      <th>age</th>\n",
       "      <th>blood_pressure</th>\n",
       "      <th>MeasureA</th>\n",
       "      <th>TestB</th>\n",
       "      <th>GeneB</th>\n",
       "      <th>GeneC</th>\n",
       "    </tr>\n",
       "  </thead>\n",
       "  <tbody>\n",
       "    <tr>\n",
       "      <th>count</th>\n",
       "      <td>10000.000000</td>\n",
       "      <td>10000.000000</td>\n",
       "      <td>10000.000000</td>\n",
       "      <td>10000.000000</td>\n",
       "      <td>10000.000000</td>\n",
       "      <td>10000.000000</td>\n",
       "      <td>10000.000000</td>\n",
       "    </tr>\n",
       "    <tr>\n",
       "      <th>mean</th>\n",
       "      <td>0.358700</td>\n",
       "      <td>60.032800</td>\n",
       "      <td>84.642355</td>\n",
       "      <td>-5.992414</td>\n",
       "      <td>0.004466</td>\n",
       "      <td>0.547900</td>\n",
       "      <td>0.550400</td>\n",
       "    </tr>\n",
       "    <tr>\n",
       "      <th>std</th>\n",
       "      <td>0.479643</td>\n",
       "      <td>8.106546</td>\n",
       "      <td>5.266045</td>\n",
       "      <td>4.168837</td>\n",
       "      <td>0.322338</td>\n",
       "      <td>0.497725</td>\n",
       "      <td>0.497478</td>\n",
       "    </tr>\n",
       "    <tr>\n",
       "      <th>min</th>\n",
       "      <td>0.000000</td>\n",
       "      <td>29.000000</td>\n",
       "      <td>-99.000000</td>\n",
       "      <td>-21.708000</td>\n",
       "      <td>-0.564197</td>\n",
       "      <td>0.000000</td>\n",
       "      <td>0.000000</td>\n",
       "    </tr>\n",
       "    <tr>\n",
       "      <th>25%</th>\n",
       "      <td>0.000000</td>\n",
       "      <td>55.000000</td>\n",
       "      <td>82.314030</td>\n",
       "      <td>-8.790691</td>\n",
       "      <td>-0.251337</td>\n",
       "      <td>0.000000</td>\n",
       "      <td>0.000000</td>\n",
       "    </tr>\n",
       "    <tr>\n",
       "      <th>50%</th>\n",
       "      <td>0.000000</td>\n",
       "      <td>60.000000</td>\n",
       "      <td>83.997305</td>\n",
       "      <td>-5.956422</td>\n",
       "      <td>-0.039662</td>\n",
       "      <td>1.000000</td>\n",
       "      <td>1.000000</td>\n",
       "    </tr>\n",
       "    <tr>\n",
       "      <th>75%</th>\n",
       "      <td>1.000000</td>\n",
       "      <td>66.000000</td>\n",
       "      <td>86.342954</td>\n",
       "      <td>-3.217110</td>\n",
       "      <td>0.215928</td>\n",
       "      <td>1.000000</td>\n",
       "      <td>1.000000</td>\n",
       "    </tr>\n",
       "    <tr>\n",
       "      <th>max</th>\n",
       "      <td>1.000000</td>\n",
       "      <td>92.000000</td>\n",
       "      <td>107.595583</td>\n",
       "      <td>8.889658</td>\n",
       "      <td>1.231447</td>\n",
       "      <td>1.000000</td>\n",
       "      <td>1.000000</td>\n",
       "    </tr>\n",
       "  </tbody>\n",
       "</table>\n",
       "</div>"
      ],
      "text/plain": [
       "          treatment           age  blood_pressure      MeasureA         TestB  \\\n",
       "count  10000.000000  10000.000000    10000.000000  10000.000000  10000.000000   \n",
       "mean       0.358700     60.032800       84.642355     -5.992414      0.004466   \n",
       "std        0.479643      8.106546        5.266045      4.168837      0.322338   \n",
       "min        0.000000     29.000000      -99.000000    -21.708000     -0.564197   \n",
       "25%        0.000000     55.000000       82.314030     -8.790691     -0.251337   \n",
       "50%        0.000000     60.000000       83.997305     -5.956422     -0.039662   \n",
       "75%        1.000000     66.000000       86.342954     -3.217110      0.215928   \n",
       "max        1.000000     92.000000      107.595583      8.889658      1.231447   \n",
       "\n",
       "              GeneB         GeneC  \n",
       "count  10000.000000  10000.000000  \n",
       "mean       0.547900      0.550400  \n",
       "std        0.497725      0.497478  \n",
       "min        0.000000      0.000000  \n",
       "25%        0.000000      0.000000  \n",
       "50%        1.000000      1.000000  \n",
       "75%        1.000000      1.000000  \n",
       "max        1.000000      1.000000  "
      ]
     },
     "execution_count": 130,
     "metadata": {},
     "output_type": "execute_result"
    }
   ],
   "source": [
    "df.describe()"
   ]
  },
  {
   "cell_type": "markdown",
   "metadata": {},
   "source": [
    "Show the distribution by percentage of binary and categorial variables"
   ]
  },
  {
   "cell_type": "markdown",
   "metadata": {},
   "source": [
    "Based on the distribution of categorical variables, we see there are only 70% of data samples that provide the information for family history, and only 0.01% of samples show positive result for family history. Due to the data incompleteness  and skewed frequency distribution, we would remove this variable in the future data processing."
   ]
  },
  {
   "cell_type": "code",
   "execution_count": 131,
   "metadata": {},
   "outputs": [
    {
     "name": "stdout",
     "output_type": "stream",
     "text": [
      "0    0.6413\n",
      "1    0.3587\n",
      "Name: treatment, dtype: float64\n",
      "\n",
      "\n",
      "female        0.6362\n",
      "non-female    0.3638\n",
      "Name: gender, dtype: float64\n",
      "\n",
      "\n",
      "negative    0.9067\n",
      "positive    0.0933\n",
      "Name: blood_test, dtype: float64\n",
      "\n",
      "\n",
      "False    0.6968\n",
      "True     0.0100\n",
      "Name: family_history, dtype: float64\n",
      "\n",
      "\n",
      "none      0.4482\n",
      "double    0.3479\n",
      "single    0.2039\n",
      "Name: GeneA, dtype: float64\n",
      "\n",
      "\n"
     ]
    }
   ],
   "source": [
    "def show_cat_distribution(df,x):\n",
    "    return print(df[x].value_counts()/len(df))\n",
    "\n",
    "categorical_features=['treatment','gender','blood_test','family_history','GeneA']\n",
    "for x in categorical_features:\n",
    "    show_cat_distribution(df,x)\n",
    "    print('\\n')"
   ]
  },
  {
   "cell_type": "markdown",
   "metadata": {},
   "source": [
    "### Step 2: Prepare Dataset (Training, Validation, and Test Data)"
   ]
  },
  {
   "cell_type": "markdown",
   "metadata": {},
   "source": [
    "Use stratified sampling method to generate training and test data (Geron, 2019). \n",
    "The sampling is based on a categorical variable: 'gender'. This variable was selected because it is most likely to influence the treatment recommendation and there is uneven distribution between female and non-female, considering the percentages of them in the real world are roughly equal.\n",
    "\n",
    "Test size of 0.1 is selected because I want to save more data for training and fine-tuning models, while 10% of the entire dataset is 1,000 data points, which should be sufficient for testing the results.\n"
   ]
  },
  {
   "cell_type": "code",
   "execution_count": 132,
   "metadata": {},
   "outputs": [],
   "source": [
    "from sklearn.model_selection import StratifiedShuffleSplit\n",
    "\n",
    "split = StratifiedShuffleSplit(n_splits=1, test_size=0.1, random_state=42)\n",
    "for train_index, test_index in split.split(df,df['gender']):\n",
    "    strat_train_set = df.loc[train_index]\n",
    "    strat_test_set=df.loc[test_index]"
   ]
  },
  {
   "cell_type": "markdown",
   "metadata": {},
   "source": [
    "Verify the percentage distribution of training and test data based on 'gender' categories.\n",
    "\n",
    "According to the percentage distribution of training and test datasets, we are confident that our stratified sampling has similar distribution with our original dataset"
   ]
  },
  {
   "cell_type": "code",
   "execution_count": 133,
   "metadata": {},
   "outputs": [
    {
     "name": "stdout",
     "output_type": "stream",
     "text": [
      "female        0.6362\n",
      "non-female    0.3638\n",
      "Name: gender, dtype: float64\n",
      "female        0.636222\n",
      "non-female    0.363778\n",
      "Name: gender, dtype: float64\n",
      "female        0.636\n",
      "non-female    0.364\n",
      "Name: gender, dtype: float64\n"
     ]
    }
   ],
   "source": [
    "show_cat_distribution(df,'gender')\n",
    "show_cat_distribution(strat_train_set,'gender')\n",
    "show_cat_distribution(strat_test_set,'gender')"
   ]
  },
  {
   "cell_type": "markdown",
   "metadata": {},
   "source": [
    "### Step 3: Discover and Visualize the Data"
   ]
  },
  {
   "cell_type": "markdown",
   "metadata": {},
   "source": [
    "Prepare a copy of the training data in case we need to retrieve the original training data (Geron, 2019)"
   ]
  },
  {
   "cell_type": "code",
   "execution_count": 134,
   "metadata": {},
   "outputs": [],
   "source": [
    "treatment=strat_train_set.copy()"
   ]
  },
  {
   "cell_type": "markdown",
   "metadata": {},
   "source": [
    "Check the correlation between all numerial variables (Geron, 2019)"
   ]
  },
  {
   "cell_type": "code",
   "execution_count": 135,
   "metadata": {},
   "outputs": [
    {
     "data": {
      "text/html": [
       "<div>\n",
       "<style scoped>\n",
       "    .dataframe tbody tr th:only-of-type {\n",
       "        vertical-align: middle;\n",
       "    }\n",
       "\n",
       "    .dataframe tbody tr th {\n",
       "        vertical-align: top;\n",
       "    }\n",
       "\n",
       "    .dataframe thead th {\n",
       "        text-align: right;\n",
       "    }\n",
       "</style>\n",
       "<table border=\"1\" class=\"dataframe\">\n",
       "  <thead>\n",
       "    <tr style=\"text-align: right;\">\n",
       "      <th></th>\n",
       "      <th>treatment</th>\n",
       "      <th>age</th>\n",
       "      <th>blood_pressure</th>\n",
       "      <th>MeasureA</th>\n",
       "      <th>TestB</th>\n",
       "      <th>GeneB</th>\n",
       "      <th>GeneC</th>\n",
       "    </tr>\n",
       "  </thead>\n",
       "  <tbody>\n",
       "    <tr>\n",
       "      <th>treatment</th>\n",
       "      <td>1.000000</td>\n",
       "      <td>-0.156017</td>\n",
       "      <td>0.062789</td>\n",
       "      <td>0.152187</td>\n",
       "      <td>0.059160</td>\n",
       "      <td>0.024736</td>\n",
       "      <td>0.044693</td>\n",
       "    </tr>\n",
       "    <tr>\n",
       "      <th>age</th>\n",
       "      <td>-0.156017</td>\n",
       "      <td>1.000000</td>\n",
       "      <td>0.002939</td>\n",
       "      <td>-0.970905</td>\n",
       "      <td>-0.001598</td>\n",
       "      <td>0.016377</td>\n",
       "      <td>0.012388</td>\n",
       "    </tr>\n",
       "    <tr>\n",
       "      <th>blood_pressure</th>\n",
       "      <td>0.062789</td>\n",
       "      <td>0.002939</td>\n",
       "      <td>1.000000</td>\n",
       "      <td>-0.001722</td>\n",
       "      <td>-0.001108</td>\n",
       "      <td>0.009965</td>\n",
       "      <td>-0.008390</td>\n",
       "    </tr>\n",
       "    <tr>\n",
       "      <th>MeasureA</th>\n",
       "      <td>0.152187</td>\n",
       "      <td>-0.970905</td>\n",
       "      <td>-0.001722</td>\n",
       "      <td>1.000000</td>\n",
       "      <td>0.000963</td>\n",
       "      <td>-0.016682</td>\n",
       "      <td>-0.012213</td>\n",
       "    </tr>\n",
       "    <tr>\n",
       "      <th>TestB</th>\n",
       "      <td>0.059160</td>\n",
       "      <td>-0.001598</td>\n",
       "      <td>-0.001108</td>\n",
       "      <td>0.000963</td>\n",
       "      <td>1.000000</td>\n",
       "      <td>-0.016238</td>\n",
       "      <td>0.007599</td>\n",
       "    </tr>\n",
       "    <tr>\n",
       "      <th>GeneB</th>\n",
       "      <td>0.024736</td>\n",
       "      <td>0.016377</td>\n",
       "      <td>0.009965</td>\n",
       "      <td>-0.016682</td>\n",
       "      <td>-0.016238</td>\n",
       "      <td>1.000000</td>\n",
       "      <td>0.007339</td>\n",
       "    </tr>\n",
       "    <tr>\n",
       "      <th>GeneC</th>\n",
       "      <td>0.044693</td>\n",
       "      <td>0.012388</td>\n",
       "      <td>-0.008390</td>\n",
       "      <td>-0.012213</td>\n",
       "      <td>0.007599</td>\n",
       "      <td>0.007339</td>\n",
       "      <td>1.000000</td>\n",
       "    </tr>\n",
       "  </tbody>\n",
       "</table>\n",
       "</div>"
      ],
      "text/plain": [
       "                treatment       age  blood_pressure  MeasureA     TestB  \\\n",
       "treatment        1.000000 -0.156017        0.062789  0.152187  0.059160   \n",
       "age             -0.156017  1.000000        0.002939 -0.970905 -0.001598   \n",
       "blood_pressure   0.062789  0.002939        1.000000 -0.001722 -0.001108   \n",
       "MeasureA         0.152187 -0.970905       -0.001722  1.000000  0.000963   \n",
       "TestB            0.059160 -0.001598       -0.001108  0.000963  1.000000   \n",
       "GeneB            0.024736  0.016377        0.009965 -0.016682 -0.016238   \n",
       "GeneC            0.044693  0.012388       -0.008390 -0.012213  0.007599   \n",
       "\n",
       "                   GeneB     GeneC  \n",
       "treatment       0.024736  0.044693  \n",
       "age             0.016377  0.012388  \n",
       "blood_pressure  0.009965 -0.008390  \n",
       "MeasureA       -0.016682 -0.012213  \n",
       "TestB          -0.016238  0.007599  \n",
       "GeneB           1.000000  0.007339  \n",
       "GeneC           0.007339  1.000000  "
      ]
     },
     "execution_count": 135,
     "metadata": {},
     "output_type": "execute_result"
    }
   ],
   "source": [
    "corr_matrix =treatment.corr()\n",
    "corr_matrix"
   ]
  },
  {
   "cell_type": "markdown",
   "metadata": {},
   "source": [
    "Plot the correlation between all numerial variables (Geron, 2019)"
   ]
  },
  {
   "cell_type": "markdown",
   "metadata": {},
   "source": [
    "From graphs below, we see that 'age' and 'MeasureA' are highly correlated (-0.97), and none of the other paired variables have such a strong relationship. Having two variables that are highly correlated might lead to difficulties when interpreting predictors (James, 2017). Since age receives a correlation with treatment that is slightly higher than MeasureA, and MeasureA is also more expensive to collect, I would recommend dropping MeasureA in the future modeling. "
   ]
  },
  {
   "cell_type": "code",
   "execution_count": 136,
   "metadata": {
    "scrolled": true
   },
   "outputs": [
    {
     "data": {
      "text/plain": [
       "array([[<matplotlib.axes._subplots.AxesSubplot object at 0x1a24d4da90>,\n",
       "        <matplotlib.axes._subplots.AxesSubplot object at 0x1a25a10f50>,\n",
       "        <matplotlib.axes._subplots.AxesSubplot object at 0x1a25afe5d0>,\n",
       "        <matplotlib.axes._subplots.AxesSubplot object at 0x1a25fc4dd0>,\n",
       "        <matplotlib.axes._subplots.AxesSubplot object at 0x1a26042610>,\n",
       "        <matplotlib.axes._subplots.AxesSubplot object at 0x1a26075e10>,\n",
       "        <matplotlib.axes._subplots.AxesSubplot object at 0x1a260b7650>],\n",
       "       [<matplotlib.axes._subplots.AxesSubplot object at 0x1a260eae50>,\n",
       "        <matplotlib.axes._subplots.AxesSubplot object at 0x1a260f49d0>,\n",
       "        <matplotlib.axes._subplots.AxesSubplot object at 0x1a26135390>,\n",
       "        <matplotlib.axes._subplots.AxesSubplot object at 0x1a261a16d0>,\n",
       "        <matplotlib.axes._subplots.AxesSubplot object at 0x1a253f1290>,\n",
       "        <matplotlib.axes._subplots.AxesSubplot object at 0x1a253a7f10>,\n",
       "        <matplotlib.axes._subplots.AxesSubplot object at 0x1a252f2510>],\n",
       "       [<matplotlib.axes._subplots.AxesSubplot object at 0x1a25a10e50>,\n",
       "        <matplotlib.axes._subplots.AxesSubplot object at 0x1a2513d590>,\n",
       "        <matplotlib.axes._subplots.AxesSubplot object at 0x1a25057b90>,\n",
       "        <matplotlib.axes._subplots.AxesSubplot object at 0x1a24dced50>,\n",
       "        <matplotlib.axes._subplots.AxesSubplot object at 0x1a24bfca10>,\n",
       "        <matplotlib.axes._subplots.AxesSubplot object at 0x1a24bc1750>,\n",
       "        <matplotlib.axes._subplots.AxesSubplot object at 0x1a250ca7d0>],\n",
       "       [<matplotlib.axes._subplots.AxesSubplot object at 0x1a24d9cf50>,\n",
       "        <matplotlib.axes._subplots.AxesSubplot object at 0x1a24e58310>,\n",
       "        <matplotlib.axes._subplots.AxesSubplot object at 0x1a2511cd50>,\n",
       "        <matplotlib.axes._subplots.AxesSubplot object at 0x1a25a37a10>,\n",
       "        <matplotlib.axes._subplots.AxesSubplot object at 0x1a253ced90>,\n",
       "        <matplotlib.axes._subplots.AxesSubplot object at 0x1a25046a50>,\n",
       "        <matplotlib.axes._subplots.AxesSubplot object at 0x1a24d96dd0>],\n",
       "       [<matplotlib.axes._subplots.AxesSubplot object at 0x1a250fea90>,\n",
       "        <matplotlib.axes._subplots.AxesSubplot object at 0x1a251a2e10>,\n",
       "        <matplotlib.axes._subplots.AxesSubplot object at 0x1a25163ad0>,\n",
       "        <matplotlib.axes._subplots.AxesSubplot object at 0x1a25017e50>,\n",
       "        <matplotlib.axes._subplots.AxesSubplot object at 0x1a25206b10>,\n",
       "        <matplotlib.axes._subplots.AxesSubplot object at 0x1a25358e90>,\n",
       "        <matplotlib.axes._subplots.AxesSubplot object at 0x1a24d6eb50>],\n",
       "       [<matplotlib.axes._subplots.AxesSubplot object at 0x1a25360ed0>,\n",
       "        <matplotlib.axes._subplots.AxesSubplot object at 0x1a25065b90>,\n",
       "        <matplotlib.axes._subplots.AxesSubplot object at 0x1a25248f10>,\n",
       "        <matplotlib.axes._subplots.AxesSubplot object at 0x1a24c5c650>,\n",
       "        <matplotlib.axes._subplots.AxesSubplot object at 0x1a2417ff50>,\n",
       "        <matplotlib.axes._subplots.AxesSubplot object at 0x1a24c26c10>,\n",
       "        <matplotlib.axes._subplots.AxesSubplot object at 0x1a2412af90>],\n",
       "       [<matplotlib.axes._subplots.AxesSubplot object at 0x1a24cebc50>,\n",
       "        <matplotlib.axes._subplots.AxesSubplot object at 0x1a24cb8fd0>,\n",
       "        <matplotlib.axes._subplots.AxesSubplot object at 0x1a26202c90>,\n",
       "        <matplotlib.axes._subplots.AxesSubplot object at 0x1a262444d0>,\n",
       "        <matplotlib.axes._subplots.AxesSubplot object at 0x1a26278cd0>,\n",
       "        <matplotlib.axes._subplots.AxesSubplot object at 0x1a262b9510>,\n",
       "        <matplotlib.axes._subplots.AxesSubplot object at 0x1a262edd10>]],\n",
       "      dtype=object)"
      ]
     },
     "execution_count": 136,
     "metadata": {},
     "output_type": "execute_result"
    },
    {
     "data": {
      "image/png": "[encoded data removed]",
      "text/plain": [
       "<Figure size 864x576 with 49 Axes>"
      ]
     },
     "metadata": {
      "needs_background": "light"
     },
     "output_type": "display_data"
    }
   ],
   "source": [
    "from pandas.plotting import scatter_matrix\n",
    "\n",
    "scatter_matrix(treatment,figsize=(12,8))"
   ]
  },
  {
   "cell_type": "markdown",
   "metadata": {},
   "source": [
    "A finalized version of dataset with both predictors and response and without dropped variables is shown below. Additionally, TestB values have been converted to their absolute values and new correlation matrix is shown below."
   ]
  },
  {
   "cell_type": "code",
   "execution_count": 137,
   "metadata": {},
   "outputs": [
    {
     "data": {
      "text/html": [
       "<div>\n",
       "<style scoped>\n",
       "    .dataframe tbody tr th:only-of-type {\n",
       "        vertical-align: middle;\n",
       "    }\n",
       "\n",
       "    .dataframe tbody tr th {\n",
       "        vertical-align: top;\n",
       "    }\n",
       "\n",
       "    .dataframe thead th {\n",
       "        text-align: right;\n",
       "    }\n",
       "</style>\n",
       "<table border=\"1\" class=\"dataframe\">\n",
       "  <thead>\n",
       "    <tr style=\"text-align: right;\">\n",
       "      <th></th>\n",
       "      <th>treatment</th>\n",
       "      <th>age</th>\n",
       "      <th>blood_pressure</th>\n",
       "      <th>gender</th>\n",
       "      <th>blood_test</th>\n",
       "      <th>TestB</th>\n",
       "      <th>GeneA</th>\n",
       "      <th>GeneB</th>\n",
       "      <th>GeneC</th>\n",
       "    </tr>\n",
       "  </thead>\n",
       "  <tbody>\n",
       "    <tr>\n",
       "      <th>132</th>\n",
       "      <td>0</td>\n",
       "      <td>55</td>\n",
       "      <td>84.854349</td>\n",
       "      <td>female</td>\n",
       "      <td>negative</td>\n",
       "      <td>0.226105</td>\n",
       "      <td>double</td>\n",
       "      <td>0</td>\n",
       "      <td>1</td>\n",
       "    </tr>\n",
       "    <tr>\n",
       "      <th>2493</th>\n",
       "      <td>0</td>\n",
       "      <td>58</td>\n",
       "      <td>85.361421</td>\n",
       "      <td>female</td>\n",
       "      <td>negative</td>\n",
       "      <td>0.063230</td>\n",
       "      <td>single</td>\n",
       "      <td>1</td>\n",
       "      <td>1</td>\n",
       "    </tr>\n",
       "    <tr>\n",
       "      <th>3375</th>\n",
       "      <td>1</td>\n",
       "      <td>74</td>\n",
       "      <td>82.578255</td>\n",
       "      <td>female</td>\n",
       "      <td>negative</td>\n",
       "      <td>0.594239</td>\n",
       "      <td>double</td>\n",
       "      <td>0</td>\n",
       "      <td>0</td>\n",
       "    </tr>\n",
       "    <tr>\n",
       "      <th>6227</th>\n",
       "      <td>1</td>\n",
       "      <td>69</td>\n",
       "      <td>89.199884</td>\n",
       "      <td>non-female</td>\n",
       "      <td>negative</td>\n",
       "      <td>0.389893</td>\n",
       "      <td>single</td>\n",
       "      <td>1</td>\n",
       "      <td>1</td>\n",
       "    </tr>\n",
       "    <tr>\n",
       "      <th>3845</th>\n",
       "      <td>1</td>\n",
       "      <td>46</td>\n",
       "      <td>81.760122</td>\n",
       "      <td>female</td>\n",
       "      <td>negative</td>\n",
       "      <td>0.339592</td>\n",
       "      <td>double</td>\n",
       "      <td>1</td>\n",
       "      <td>1</td>\n",
       "    </tr>\n",
       "  </tbody>\n",
       "</table>\n",
       "</div>"
      ],
      "text/plain": [
       "      treatment  age  blood_pressure      gender blood_test     TestB   GeneA  \\\n",
       "132           0   55       84.854349      female   negative  0.226105  double   \n",
       "2493          0   58       85.361421      female   negative  0.063230  single   \n",
       "3375          1   74       82.578255      female   negative  0.594239  double   \n",
       "6227          1   69       89.199884  non-female   negative  0.389893  single   \n",
       "3845          1   46       81.760122      female   negative  0.339592  double   \n",
       "\n",
       "      GeneB  GeneC  \n",
       "132       0      1  \n",
       "2493      1      1  \n",
       "3375      0      0  \n",
       "6227      1      1  \n",
       "3845      1      1  "
      ]
     },
     "execution_count": 137,
     "metadata": {},
     "output_type": "execute_result"
    }
   ],
   "source": [
    "treatment=treatment.drop(columns=['family_history','MeasureA']) \n",
    "treatment['TestB']=np.absolute(treatment.TestB)\n",
    "treatment.head()"
   ]
  },
  {
   "cell_type": "code",
   "execution_count": 138,
   "metadata": {},
   "outputs": [
    {
     "data": {
      "text/html": [
       "<div>\n",
       "<style scoped>\n",
       "    .dataframe tbody tr th:only-of-type {\n",
       "        vertical-align: middle;\n",
       "    }\n",
       "\n",
       "    .dataframe tbody tr th {\n",
       "        vertical-align: top;\n",
       "    }\n",
       "\n",
       "    .dataframe thead th {\n",
       "        text-align: right;\n",
       "    }\n",
       "</style>\n",
       "<table border=\"1\" class=\"dataframe\">\n",
       "  <thead>\n",
       "    <tr style=\"text-align: right;\">\n",
       "      <th></th>\n",
       "      <th>treatment</th>\n",
       "      <th>age</th>\n",
       "      <th>blood_pressure</th>\n",
       "      <th>TestB</th>\n",
       "      <th>GeneB</th>\n",
       "      <th>GeneC</th>\n",
       "    </tr>\n",
       "  </thead>\n",
       "  <tbody>\n",
       "    <tr>\n",
       "      <th>treatment</th>\n",
       "      <td>1.000000</td>\n",
       "      <td>-0.156017</td>\n",
       "      <td>0.062789</td>\n",
       "      <td>0.357935</td>\n",
       "      <td>0.024736</td>\n",
       "      <td>0.044693</td>\n",
       "    </tr>\n",
       "    <tr>\n",
       "      <th>age</th>\n",
       "      <td>-0.156017</td>\n",
       "      <td>1.000000</td>\n",
       "      <td>0.002939</td>\n",
       "      <td>0.001893</td>\n",
       "      <td>0.016377</td>\n",
       "      <td>0.012388</td>\n",
       "    </tr>\n",
       "    <tr>\n",
       "      <th>blood_pressure</th>\n",
       "      <td>0.062789</td>\n",
       "      <td>0.002939</td>\n",
       "      <td>1.000000</td>\n",
       "      <td>-0.001941</td>\n",
       "      <td>0.009965</td>\n",
       "      <td>-0.008390</td>\n",
       "    </tr>\n",
       "    <tr>\n",
       "      <th>TestB</th>\n",
       "      <td>0.357935</td>\n",
       "      <td>0.001893</td>\n",
       "      <td>-0.001941</td>\n",
       "      <td>1.000000</td>\n",
       "      <td>0.007653</td>\n",
       "      <td>-0.000911</td>\n",
       "    </tr>\n",
       "    <tr>\n",
       "      <th>GeneB</th>\n",
       "      <td>0.024736</td>\n",
       "      <td>0.016377</td>\n",
       "      <td>0.009965</td>\n",
       "      <td>0.007653</td>\n",
       "      <td>1.000000</td>\n",
       "      <td>0.007339</td>\n",
       "    </tr>\n",
       "    <tr>\n",
       "      <th>GeneC</th>\n",
       "      <td>0.044693</td>\n",
       "      <td>0.012388</td>\n",
       "      <td>-0.008390</td>\n",
       "      <td>-0.000911</td>\n",
       "      <td>0.007339</td>\n",
       "      <td>1.000000</td>\n",
       "    </tr>\n",
       "  </tbody>\n",
       "</table>\n",
       "</div>"
      ],
      "text/plain": [
       "                treatment       age  blood_pressure     TestB     GeneB  \\\n",
       "treatment        1.000000 -0.156017        0.062789  0.357935  0.024736   \n",
       "age             -0.156017  1.000000        0.002939  0.001893  0.016377   \n",
       "blood_pressure   0.062789  0.002939        1.000000 -0.001941  0.009965   \n",
       "TestB            0.357935  0.001893       -0.001941  1.000000  0.007653   \n",
       "GeneB            0.024736  0.016377        0.009965  0.007653  1.000000   \n",
       "GeneC            0.044693  0.012388       -0.008390 -0.000911  0.007339   \n",
       "\n",
       "                   GeneC  \n",
       "treatment       0.044693  \n",
       "age             0.012388  \n",
       "blood_pressure -0.008390  \n",
       "TestB          -0.000911  \n",
       "GeneB           0.007339  \n",
       "GeneC           1.000000  "
      ]
     },
     "execution_count": 138,
     "metadata": {},
     "output_type": "execute_result"
    }
   ],
   "source": [
    "corr_matrix =treatment.corr()\n",
    "corr_matrix"
   ]
  },
  {
   "cell_type": "markdown",
   "metadata": {},
   "source": [
    "### Step 4: Data Preprocessing"
   ]
  },
  {
   "cell_type": "markdown",
   "metadata": {},
   "source": [
    "After we explored and made some modification to the training dataset in the last step, we would copy the original training data again for the future data processing (Geron, 2019)"
   ]
  },
  {
   "cell_type": "code",
   "execution_count": 139,
   "metadata": {},
   "outputs": [],
   "source": [
    "treatment=strat_train_set.copy()"
   ]
  },
  {
   "cell_type": "markdown",
   "metadata": {},
   "source": [
    "We define a data_transform function here to reflect that we are dropping 'family_history' and 'MeasureA' variables for the reasons we discussed above. \n",
    "\n",
    "We do this pre-transformation step before we drop 'price' variable beacuse we want to make sure the same data points would be dropped when we separate dependent and indepedent variables. We also drop the categorical variable GeneA because after a series of feature combination trails, excluding GeneA would considerably improve the AUC scores and interpretability of the best Logistic model. \n",
    "\n",
    "For categorical variables, there are only 70% of data samples that provide the information for family history, and only 0.01% of samples show positive result for family history. Due to the data incompleteness and skewed frequency distribution, I removed this variable from categorial variables in the future data processing. I also dropped the categorical variable GeneA because after a series of feature combination trails, excluding GeneA would considerably improve the AUC scores by 15% and enhance the interpretability of the Logistic model.\n",
    "\n",
    "We choose to drop the data points with any missing values because they only occupy a small percetage of the whole training data."
   ]
  },
  {
   "cell_type": "code",
   "execution_count": 140,
   "metadata": {},
   "outputs": [],
   "source": [
    "def data_transform(df):\n",
    "    df=df.drop(columns=['family_history','MeasureA','GeneA']) \n",
    "    df['TestB']=np.absolute(df.TestB)\n",
    "    df=df.replace([np.inf, -np.inf], np.nan)\n",
    "    df=df.dropna() # Drop the data points with any missing values because they only occupy a small percetage of the whole training data\n",
    "    return df"
   ]
  },
  {
   "cell_type": "code",
   "execution_count": 141,
   "metadata": {
    "scrolled": true
   },
   "outputs": [
    {
     "data": {
      "text/html": [
       "<div>\n",
       "<style scoped>\n",
       "    .dataframe tbody tr th:only-of-type {\n",
       "        vertical-align: middle;\n",
       "    }\n",
       "\n",
       "    .dataframe tbody tr th {\n",
       "        vertical-align: top;\n",
       "    }\n",
       "\n",
       "    .dataframe thead th {\n",
       "        text-align: right;\n",
       "    }\n",
       "</style>\n",
       "<table border=\"1\" class=\"dataframe\">\n",
       "  <thead>\n",
       "    <tr style=\"text-align: right;\">\n",
       "      <th></th>\n",
       "      <th>treatment</th>\n",
       "      <th>age</th>\n",
       "      <th>blood_pressure</th>\n",
       "      <th>gender</th>\n",
       "      <th>blood_test</th>\n",
       "      <th>TestB</th>\n",
       "      <th>GeneB</th>\n",
       "      <th>GeneC</th>\n",
       "    </tr>\n",
       "  </thead>\n",
       "  <tbody>\n",
       "    <tr>\n",
       "      <th>132</th>\n",
       "      <td>0</td>\n",
       "      <td>55</td>\n",
       "      <td>84.854349</td>\n",
       "      <td>female</td>\n",
       "      <td>negative</td>\n",
       "      <td>0.226105</td>\n",
       "      <td>0</td>\n",
       "      <td>1</td>\n",
       "    </tr>\n",
       "    <tr>\n",
       "      <th>2493</th>\n",
       "      <td>0</td>\n",
       "      <td>58</td>\n",
       "      <td>85.361421</td>\n",
       "      <td>female</td>\n",
       "      <td>negative</td>\n",
       "      <td>0.063230</td>\n",
       "      <td>1</td>\n",
       "      <td>1</td>\n",
       "    </tr>\n",
       "    <tr>\n",
       "      <th>3375</th>\n",
       "      <td>1</td>\n",
       "      <td>74</td>\n",
       "      <td>82.578255</td>\n",
       "      <td>female</td>\n",
       "      <td>negative</td>\n",
       "      <td>0.594239</td>\n",
       "      <td>0</td>\n",
       "      <td>0</td>\n",
       "    </tr>\n",
       "    <tr>\n",
       "      <th>6227</th>\n",
       "      <td>1</td>\n",
       "      <td>69</td>\n",
       "      <td>89.199884</td>\n",
       "      <td>non-female</td>\n",
       "      <td>negative</td>\n",
       "      <td>0.389893</td>\n",
       "      <td>1</td>\n",
       "      <td>1</td>\n",
       "    </tr>\n",
       "    <tr>\n",
       "      <th>3845</th>\n",
       "      <td>1</td>\n",
       "      <td>46</td>\n",
       "      <td>81.760122</td>\n",
       "      <td>female</td>\n",
       "      <td>negative</td>\n",
       "      <td>0.339592</td>\n",
       "      <td>1</td>\n",
       "      <td>1</td>\n",
       "    </tr>\n",
       "  </tbody>\n",
       "</table>\n",
       "</div>"
      ],
      "text/plain": [
       "      treatment  age  blood_pressure      gender blood_test     TestB  GeneB  \\\n",
       "132           0   55       84.854349      female   negative  0.226105      0   \n",
       "2493          0   58       85.361421      female   negative  0.063230      1   \n",
       "3375          1   74       82.578255      female   negative  0.594239      0   \n",
       "6227          1   69       89.199884  non-female   negative  0.389893      1   \n",
       "3845          1   46       81.760122      female   negative  0.339592      1   \n",
       "\n",
       "      GeneC  \n",
       "132       1  \n",
       "2493      1  \n",
       "3375      0  \n",
       "6227      1  \n",
       "3845      1  "
      ]
     },
     "execution_count": 141,
     "metadata": {},
     "output_type": "execute_result"
    }
   ],
   "source": [
    "treatment=data_transform(treatment)\n",
    "treatment.head()"
   ]
  },
  {
   "cell_type": "markdown",
   "metadata": {},
   "source": [
    "Drop the dependent variable and create a copy of the dependent variable for model training in the future (Geron, 2019)."
   ]
  },
  {
   "cell_type": "code",
   "execution_count": 142,
   "metadata": {},
   "outputs": [
    {
     "data": {
      "text/html": [
       "<div>\n",
       "<style scoped>\n",
       "    .dataframe tbody tr th:only-of-type {\n",
       "        vertical-align: middle;\n",
       "    }\n",
       "\n",
       "    .dataframe tbody tr th {\n",
       "        vertical-align: top;\n",
       "    }\n",
       "\n",
       "    .dataframe thead th {\n",
       "        text-align: right;\n",
       "    }\n",
       "</style>\n",
       "<table border=\"1\" class=\"dataframe\">\n",
       "  <thead>\n",
       "    <tr style=\"text-align: right;\">\n",
       "      <th></th>\n",
       "      <th>age</th>\n",
       "      <th>blood_pressure</th>\n",
       "      <th>gender</th>\n",
       "      <th>blood_test</th>\n",
       "      <th>TestB</th>\n",
       "      <th>GeneB</th>\n",
       "      <th>GeneC</th>\n",
       "    </tr>\n",
       "  </thead>\n",
       "  <tbody>\n",
       "    <tr>\n",
       "      <th>132</th>\n",
       "      <td>55</td>\n",
       "      <td>84.854349</td>\n",
       "      <td>female</td>\n",
       "      <td>negative</td>\n",
       "      <td>0.226105</td>\n",
       "      <td>0</td>\n",
       "      <td>1</td>\n",
       "    </tr>\n",
       "    <tr>\n",
       "      <th>2493</th>\n",
       "      <td>58</td>\n",
       "      <td>85.361421</td>\n",
       "      <td>female</td>\n",
       "      <td>negative</td>\n",
       "      <td>0.063230</td>\n",
       "      <td>1</td>\n",
       "      <td>1</td>\n",
       "    </tr>\n",
       "    <tr>\n",
       "      <th>3375</th>\n",
       "      <td>74</td>\n",
       "      <td>82.578255</td>\n",
       "      <td>female</td>\n",
       "      <td>negative</td>\n",
       "      <td>0.594239</td>\n",
       "      <td>0</td>\n",
       "      <td>0</td>\n",
       "    </tr>\n",
       "    <tr>\n",
       "      <th>6227</th>\n",
       "      <td>69</td>\n",
       "      <td>89.199884</td>\n",
       "      <td>non-female</td>\n",
       "      <td>negative</td>\n",
       "      <td>0.389893</td>\n",
       "      <td>1</td>\n",
       "      <td>1</td>\n",
       "    </tr>\n",
       "    <tr>\n",
       "      <th>3845</th>\n",
       "      <td>46</td>\n",
       "      <td>81.760122</td>\n",
       "      <td>female</td>\n",
       "      <td>negative</td>\n",
       "      <td>0.339592</td>\n",
       "      <td>1</td>\n",
       "      <td>1</td>\n",
       "    </tr>\n",
       "  </tbody>\n",
       "</table>\n",
       "</div>"
      ],
      "text/plain": [
       "      age  blood_pressure      gender blood_test     TestB  GeneB  GeneC\n",
       "132    55       84.854349      female   negative  0.226105      0      1\n",
       "2493   58       85.361421      female   negative  0.063230      1      1\n",
       "3375   74       82.578255      female   negative  0.594239      0      0\n",
       "6227   69       89.199884  non-female   negative  0.389893      1      1\n",
       "3845   46       81.760122      female   negative  0.339592      1      1"
      ]
     },
     "execution_count": 142,
     "metadata": {},
     "output_type": "execute_result"
    }
   ],
   "source": [
    "treatment_labels=treatment['treatment'].copy()\n",
    "treatment=treatment.drop('treatment',axis=1)\n",
    "treatment.head()"
   ]
  },
  {
   "cell_type": "markdown",
   "metadata": {},
   "source": [
    "Separate numerial and categorical variables for designing a work pipline and further data processing (Geron, 2019)"
   ]
  },
  {
   "cell_type": "code",
   "execution_count": 143,
   "metadata": {},
   "outputs": [],
   "source": [
    "treatment_num=treatment[['age','blood_pressure','TestB','GeneB','GeneC']]\n",
    "treatment_cat=treatment[['gender', 'blood_test']]"
   ]
  },
  {
   "cell_type": "markdown",
   "metadata": {},
   "source": [
    "Use transformation piplines for standarding numerical variables and encoding categorical variables (Geron, 2019).\n",
    "\n",
    "I first create a pipeline for numerical variables. Standardization is selected because it is more robust to outliers compared to normalization. \n",
    "\n",
    "\n",
    "Secondly, I create a pipeline for both numerical and categorical variables. OneHotEncoder is used for transforming categorial variables into dummy variables because there is no clear ordinal relationship in all categorical variables."
   ]
  },
  {
   "cell_type": "code",
   "execution_count": 144,
   "metadata": {
    "scrolled": true
   },
   "outputs": [],
   "source": [
    "from sklearn.preprocessing import OneHotEncoder\n",
    "from sklearn.pipeline import Pipeline\n",
    "from sklearn.compose import ColumnTransformer\n",
    "from sklearn.preprocessing import StandardScaler \n",
    "\n",
    "# Create a pipeline for numerical variables\n",
    "# Standardization is selected because it is more robust to outliers compared to normalization. \n",
    "num_pipeline = Pipeline([\n",
    "        ('std_scaler', StandardScaler()),\n",
    "    ])\n",
    "\n",
    "num_attribs = list(treatment_num)\n",
    "cat_attribs = list(treatment_cat)\n",
    "\n",
    "# Create a pipeline for both numerical and categorical variables\n",
    "# OneHotEncoder is used for transforming categorial variables into dummy variables \n",
    "# because there is no clear ordinal relationship in all categorical variables\n",
    "\n",
    "full_pipeline = ColumnTransformer([\n",
    "        (\"num\", num_pipeline, num_attribs),\n",
    "        (\"cat\", OneHotEncoder(), cat_attribs),\n",
    "    ])\n",
    "\n",
    "treatment_prepared = full_pipeline.fit_transform(treatment)"
   ]
  },
  {
   "cell_type": "markdown",
   "metadata": {},
   "source": [
    "Output a 9000*9 data array for future modeling"
   ]
  },
  {
   "cell_type": "code",
   "execution_count": 145,
   "metadata": {},
   "outputs": [
    {
     "data": {
      "text/plain": [
       "array([[-0.61408298,  0.04331346, -0.19852095, ...,  0.        ,\n",
       "         1.        ,  0.        ],\n",
       "       [-0.24484549,  0.13663357, -1.07937558, ...,  0.        ,\n",
       "         1.        ,  0.        ],\n",
       "       [ 1.72442116, -0.37557281,  1.79240862, ...,  0.        ,\n",
       "         1.        ,  0.        ],\n",
       "       ...,\n",
       "       [ 0.98594617,  0.48389651,  0.60522755, ...,  0.        ,\n",
       "         1.        ,  0.        ],\n",
       "       [ 0.12439201, -0.47884078, -0.87538871, ...,  0.        ,\n",
       "         1.        ,  0.        ],\n",
       "       [-0.36792465, -0.12640745,  1.1655251 , ...,  0.        ,\n",
       "         1.        ,  0.        ]])"
      ]
     },
     "execution_count": 145,
     "metadata": {},
     "output_type": "execute_result"
    }
   ],
   "source": [
    "treatment_prepared # (Geron, 2019)"
   ]
  },
  {
   "cell_type": "markdown",
   "metadata": {},
   "source": [
    "Print the shape of the data array above"
   ]
  },
  {
   "cell_type": "code",
   "execution_count": 146,
   "metadata": {},
   "outputs": [
    {
     "data": {
      "text/plain": [
       "(9000, 9)"
      ]
     },
     "execution_count": 146,
     "metadata": {},
     "output_type": "execute_result"
    }
   ],
   "source": [
    "treatment_prepared.shape"
   ]
  },
  {
   "cell_type": "markdown",
   "metadata": {},
   "source": [
    "### Step 5: Model Selection and Training"
   ]
  },
  {
   "cell_type": "markdown",
   "metadata": {},
   "source": [
    "Logistic Regression Sklearn Documentation: https://scikit-learn.org/stable/modules/generated/sklearn.linear_model.LogisticRegression.html"
   ]
  },
  {
   "cell_type": "markdown",
   "metadata": {},
   "source": [
    "#### Preliminary comparision of different models"
   ]
  },
  {
   "cell_type": "markdown",
   "metadata": {},
   "source": [
    "Import Logistic regression model from sklearn library (Sklearn Documentation, 2020).\n",
    "\n",
    "Different combinations of penalty (none, l2, l1 and elasticNet) and solver (sage and lbfgs) were used for model selection. \n",
    "\n",
    "The accuracy scores are not optimal scores for selecting logistic regression models, they were printed here for a preliminary comparison."
   ]
  },
  {
   "cell_type": "code",
   "execution_count": 147,
   "metadata": {},
   "outputs": [
    {
     "name": "stdout",
     "output_type": "stream",
     "text": [
      "The score of Logistic regression without any regularization is : 0.7472222222222222\n",
      "The score of Logistic regression with L2 panelty is 0.7472222222222222\n",
      "The score of Logistic regression with L1 panelty is 0.7473333333333333\n",
      "The score of Logistic regression with elasticNet panelty is 0.7473333333333333\n"
     ]
    }
   ],
   "source": [
    "from sklearn.linear_model import LogisticRegression\n",
    "clf_none= LogisticRegression(random_state=42,penalty='none').fit(treatment_prepared, treatment_labels)\n",
    "clf_Ridge = LogisticRegression(random_state=42,penalty='l2').fit(treatment_prepared, treatment_labels)\n",
    "clf_Lasso = LogisticRegression(random_state=42,penalty='l1',solver='saga').fit(treatment_prepared, treatment_labels)\n",
    "clf_elasticnet = LogisticRegression(random_state=42,penalty='elasticnet',solver='saga',l1_ratio=0.5).fit(treatment_prepared, treatment_labels)\n",
    "\n",
    "print(\"The score of Logistic regression without any regularization is : \" +str(clf_none.score(treatment_prepared, treatment_labels)))\n",
    "print(\"The score of Logistic regression with L2 panelty is \" +str(clf_Ridge.score(treatment_prepared, treatment_labels)))\n",
    "print(\"The score of Logistic regression with L1 panelty is \" +str(clf_Lasso.score(treatment_prepared, treatment_labels)))\n",
    "print(\"The score of Logistic regression with elasticNet panelty is \" +str(clf_elasticnet.score(treatment_prepared, treatment_labels)))\n"
   ]
  },
  {
   "cell_type": "markdown",
   "metadata": {},
   "source": [
    "Both precision score and recall score were printed for each model."
   ]
  },
  {
   "cell_type": "code",
   "execution_count": 148,
   "metadata": {},
   "outputs": [
    {
     "name": "stdout",
     "output_type": "stream",
     "text": [
      "The precision score of Logistic regression without any regularization is : 0.6820695102685624\n",
      "The recall score of Logistic regression without any regularization is : 0.5401939318110729\n",
      "The precision score of Logistic regression with L2 panelty is : 0.6820695102685624\n",
      "The recall score of Logistic regression with L2 panelty is : 0.5401939318110729\n",
      "The precision score of Logistic regression with L1 panelty is : 0.6823389964440932\n",
      "The recall score of Logistic regression with L1 panelty is : 0.5401939318110729\n",
      "The precision score of Logistic regression with elasticNet panelty is : 0.6823389964440932\n",
      "The recall score of Logistic regression with elasticNet panelty is : 0.5401939318110729\n"
     ]
    }
   ],
   "source": [
    "from sklearn.metrics import precision_score, recall_score \n",
    "treatment_predictions_none = clf_none.predict(treatment_prepared)\n",
    "treatment_predictions_Ridge = clf_Ridge.predict(treatment_prepared)\n",
    "treatment_predictions_Lasso = clf_Lasso.predict(treatment_prepared)\n",
    "treatment_predictions_elasticNet = clf_elasticnet.predict(treatment_prepared)\n",
    "\n",
    "\n",
    "print(\"The precision score of Logistic regression without any regularization is : \" +str(precision_score(treatment_labels,treatment_predictions_none)))\n",
    "print(\"The recall score of Logistic regression without any regularization is : \" +str(recall_score(treatment_labels,treatment_predictions_none)))\n",
    "print(\"The precision score of Logistic regression with L2 panelty is : \" +str(precision_score(treatment_labels,treatment_predictions_Ridge)))\n",
    "print(\"The recall score of Logistic regression with L2 panelty is : \" +str(recall_score(treatment_labels,treatment_predictions_Ridge)))\n",
    "print(\"The precision score of Logistic regression with L1 panelty is : \" +str(precision_score(treatment_labels,treatment_predictions_Lasso)))\n",
    "print(\"The recall score of Logistic regression with L1 panelty is : \" +str(recall_score(treatment_labels,treatment_predictions_Lasso)))\n",
    "print(\"The precision score of Logistic regression with elasticNet panelty is : \" +str(precision_score(treatment_labels,treatment_predictions_elasticNet)))\n",
    "print(\"The recall score of Logistic regression with elasticNet panelty is : \" +str(recall_score(treatment_labels,treatment_predictions_elasticNet)))\n"
   ]
  },
  {
   "cell_type": "markdown",
   "metadata": {},
   "source": [
    "Plot the ROC curve of the four Logistic Regression models by using cross-validation method to collect a series of true positive and false positive  rates with different  threshold settings. The four models are shown in a same graph. Since they have a similar shape of ROC curves, the four curves are overlapped in the graph below."
   ]
  },
  {
   "cell_type": "code",
   "execution_count": 149,
   "metadata": {},
   "outputs": [],
   "source": [
    "from sklearn.metrics import roc_curve\n",
    "from sklearn.model_selection import cross_val_predict\n",
    "\n",
    "#Use cross-validation method to collect a series of true positive and false postive rates with differnt threshold settings (Geron, 2019)\n",
    "y_scores = cross_val_predict(clf_none, treatment_prepared, treatment_labels, cv=3,\n",
    "                             method=\"decision_function\")\n",
    "y_scores_Ridge = cross_val_predict(clf_Ridge,treatment_prepared, treatment_labels, cv=3,\n",
    "                             method=\"decision_function\")\n",
    "y_scores_Lasso = cross_val_predict(clf_Lasso,treatment_prepared, treatment_labels, cv=3,\n",
    "                             method=\"decision_function\")\n",
    "y_scores_elasticnet = cross_val_predict(clf_elasticnet,treatment_prepared, treatment_labels, cv=3,\n",
    "                             method=\"decision_function\")\n",
    "\n",
    "#Assign true positive and false positive rates of different threholds to fpr and tpr arrays (Geron, 2019)\n",
    "fpr, tpr, thresholds = roc_curve(treatment_labels, y_scores)\n",
    "fpr_Ridge, tpr_Ridge, thresholds_Ridge = roc_curve(treatment_labels, y_scores_Ridge)\n",
    "fpr_Lasso, tpr_Lasso, thresholds_Lasso = roc_curve(treatment_labels, y_scores_Lasso)\n",
    "fpr_elasticnet, tpr_elasticnet, thresholds_elasticnet = roc_curve(treatment_labels, y_scores_elasticnet)\n",
    "\n",
    "# Define a function for plot the ROC curve of each model\n",
    "def plot_roc_curve(fpr, tpr, label=None):\n",
    "    plt.plot(fpr, tpr, linewidth=2, label=label)\n",
    "    plt.plot([0, 1], [0, 1], 'k--') # dashed diagonal\n",
    "    plt.axis([0, 1, 0, 1])                                    \n",
    "    plt.xlabel('False Positive Rate (Fall-Out)', fontsize=16) \n",
    "    plt.ylabel('True Positive Rate (Recall)', fontsize=16)    \n",
    "    plt.grid(True)                                            "
   ]
  },
  {
   "cell_type": "markdown",
   "metadata": {},
   "source": [
    "Plot the ROC curves of four models (since the four models get similar ROC curves, they are overlapped in the graph below)"
   ]
  },
  {
   "cell_type": "code",
   "execution_count": 150,
   "metadata": {},
   "outputs": [
    {
     "data": {
      "image/png": "[encoded data removed]",
      "text/plain": [
       "<Figure size 576x432 with 1 Axes>"
      ]
     },
     "metadata": {
      "needs_background": "light"
     },
     "output_type": "display_data"
    }
   ],
   "source": [
    "plt.figure(figsize=(8, 6))                                \n",
    "plot_roc_curve(fpr, tpr)\n",
    "plot_roc_curve(fpr_Ridge, tpr_Ridge) \n",
    "plot_roc_curve(fpr_Lasso, tpr_Lasso)\n",
    "plot_roc_curve(fpr_elasticnet, tpr_elasticnet) \n",
    "plt.show()"
   ]
  },
  {
   "cell_type": "markdown",
   "metadata": {},
   "source": [
    "Print the AUC score of ROC curve for the four models"
   ]
  },
  {
   "cell_type": "markdown",
   "metadata": {},
   "source": [
    "According to AUC scores, Logistic Regression without any regularization, with L2 penalty, with L1 penalty, and with Elastic Net penalty all have similar scores. The AUC scores of models with L1 and Elastric Net penalty are slightly higher than models with none regularization and L2 penalty, which means the first two models perform slightly better in this trial.\n",
    "\n",
    "However, we would want to use a Cross-Validation method to verify if the same pattern exists when we run multiple times with different sets of training and validation data. "
   ]
  },
  {
   "cell_type": "code",
   "execution_count": 151,
   "metadata": {},
   "outputs": [
    {
     "name": "stdout",
     "output_type": "stream",
     "text": [
      "The AUC score of Logistic regression without any regularization is : 0.8187316527735188\n",
      "The AUC score of Logistic regression with L2 panelty is : 0.818736288344595\n",
      "The AUC score of Logistic regression with L1 panelty is : 0.8187401153858324\n",
      "The AUC score of Logistic regression with elasticNet panelty is : 0.8187366656585199\n"
     ]
    }
   ],
   "source": [
    "from sklearn.metrics import roc_auc_score\n",
    "print(\"The AUC score of Logistic regression without any regularization is : \" +str(roc_auc_score(treatment_labels,y_scores)))\n",
    "print(\"The AUC score of Logistic regression with L2 panelty is : \" +str(roc_auc_score(treatment_labels,y_scores_Ridge)))\n",
    "print(\"The AUC score of Logistic regression with L1 panelty is : \" +str(roc_auc_score(treatment_labels,y_scores_Lasso)))\n",
    "print(\"The AUC score of Logistic regression with elasticNet panelty is : \" +str(roc_auc_score(treatment_labels,y_scores_elasticnet)))"
   ]
  },
  {
   "cell_type": "markdown",
   "metadata": {},
   "source": [
    "#### Use Cross-Validation method for evaluting different models"
   ]
  },
  {
   "cell_type": "markdown",
   "metadata": {},
   "source": [
    "Define a function to calculate a set of AUC scores for each model (Geron, 2019)"
   ]
  },
  {
   "cell_type": "code",
   "execution_count": 152,
   "metadata": {},
   "outputs": [],
   "source": [
    "from sklearn.model_selection import cross_val_score\n",
    "\n",
    "def cross_val_scores(model, treatment_prepared, treatment_labels):\n",
    "    AUC = cross_val_score(model, treatment_prepared, treatment_labels,\n",
    "                             scoring=\"roc_auc\", cv=10)\n",
    "\n",
    "    print(str(model)+\" AUC of Cross-Validation equals to \")\n",
    "    print(\"AUC: \", AUC) \n",
    "    print(\"Mean: \", AUC.mean()) \n",
    "    print(\"Standard Deviation: \", AUC.std()) \n",
    "    print('\\n')"
   ]
  },
  {
   "cell_type": "markdown",
   "metadata": {},
   "source": [
    "Run all four models again with Cross-Validation method and print their mean and standard deviation (SD) scores of their AUC values"
   ]
  },
  {
   "cell_type": "markdown",
   "metadata": {},
   "source": [
    "According to the descriptive information of AUC scores of all four models, we see that it demonstrates a consistent pattern with the last step. All four models have similar mean and standard deviation (SD) scores, while the models with no regularization and L2 penalty have SD scores that are slightly higher than the other models, indicating that there might be more variation in their AUC scores. "
   ]
  },
  {
   "cell_type": "code",
   "execution_count": 153,
   "metadata": {},
   "outputs": [
    {
     "name": "stdout",
     "output_type": "stream",
     "text": [
      "LogisticRegression(C=1.0, class_weight=None, dual=False, fit_intercept=True,\n",
      "                   intercept_scaling=1, l1_ratio=None, max_iter=100,\n",
      "                   multi_class='auto', n_jobs=None, penalty='none',\n",
      "                   random_state=42, solver='lbfgs', tol=0.0001, verbose=0,\n",
      "                   warm_start=False) AUC of Cross-Validation equals to \n",
      "AUC:  [0.82794231 0.80794112 0.81335283 0.81890086 0.81251616 0.8315194\n",
      " 0.80641703 0.81489763 0.82876078 0.82445582]\n",
      "Mean:  0.8186703936772617\n",
      "Standard Deviation:  0.008556006307940253\n",
      "\n",
      "\n",
      "LogisticRegression(C=1.0, class_weight=None, dual=False, fit_intercept=True,\n",
      "                   intercept_scaling=1, l1_ratio=None, max_iter=100,\n",
      "                   multi_class='auto', n_jobs=None, penalty='l2',\n",
      "                   random_state=42, solver='lbfgs', tol=0.0001, verbose=0,\n",
      "                   warm_start=False) AUC of Cross-Validation equals to \n",
      "AUC:  [0.8279531  0.8079735  0.81337981 0.81892241 0.8125431  0.83150862\n",
      " 0.80641164 0.81487608 0.82875539 0.82443427]\n",
      "Mean:  0.8186757914719782\n",
      "Standard Deviation:  0.008547589347819351\n",
      "\n",
      "\n",
      "LogisticRegression(C=1.0, class_weight=None, dual=False, fit_intercept=True,\n",
      "                   intercept_scaling=1, l1_ratio=None, max_iter=100,\n",
      "                   multi_class='auto', n_jobs=None, penalty='l1',\n",
      "                   random_state=42, solver='saga', tol=0.0001, verbose=0,\n",
      "                   warm_start=False) AUC of Cross-Validation equals to \n",
      "AUC:  [0.82792073 0.80798429 0.81344455 0.81894397 0.81251078 0.83147629\n",
      " 0.80640625 0.81490841 0.82873922 0.82445043]\n",
      "Mean:  0.8186784915074539\n",
      "Standard Deviation:  0.008534805555597253\n",
      "\n",
      "\n",
      "LogisticRegression(C=1.0, class_weight=None, dual=False, fit_intercept=True,\n",
      "                   intercept_scaling=1, l1_ratio=0.5, max_iter=100,\n",
      "                   multi_class='auto', n_jobs=None, penalty='elasticnet',\n",
      "                   random_state=42, solver='saga', tol=0.0001, verbose=0,\n",
      "                   warm_start=False) AUC of Cross-Validation equals to \n",
      "AUC:  [0.82792612 0.80798968 0.81341758 0.81886315 0.81253772 0.83148707\n",
      " 0.8064278  0.81488685 0.82872306 0.82444504]\n",
      "Mean:  0.8186704073346679\n",
      "Standard Deviation:  0.00853141955740195\n",
      "\n",
      "\n"
     ]
    }
   ],
   "source": [
    "models = [clf_none, clf_Ridge, clf_Lasso, clf_elasticnet]\n",
    "for model in models:\n",
    "    cross_val_scores(model,treatment_prepared, treatment_labels)"
   ]
  },
  {
   "cell_type": "markdown",
   "metadata": {},
   "source": [
    "#### Model Fine-Tuning"
   ]
  },
  {
   "cell_type": "code",
   "execution_count": 154,
   "metadata": {},
   "outputs": [],
   "source": [
    "from sklearn.model_selection import RandomizedSearchCV\n",
    "from scipy.stats import randint\n",
    "import joblib"
   ]
  },
  {
   "cell_type": "markdown",
   "metadata": {},
   "source": [
    "Use RandomizedSearchCV method to randomly test a series of models with different parameter settings (Geron, 2019; Sklearn Documentation, 2020).\n",
    "\n",
    "In this step, we first run this method on Logistic Regression models with L2 and none penalty because they are most flexible by using different solvers compared to the other two models. \n",
    "\n",
    "Save the best model for the test data. "
   ]
  },
  {
   "cell_type": "code",
   "execution_count": 155,
   "metadata": {},
   "outputs": [
    {
     "name": "stderr",
     "output_type": "stream",
     "text": [
      "/Users/joycejiang/opt/anaconda3/lib/python3.7/site-packages/sklearn/model_selection/_search.py:281: UserWarning: The total space of parameters 8 is smaller than n_iter=10. Running 8 iterations. For exhaustive searches, use GridSearchCV.\n",
      "  % (grid_size, self.n_iter, grid_size), UserWarning)\n",
      "/Users/joycejiang/opt/anaconda3/lib/python3.7/site-packages/sklearn/linear_model/_sag.py:330: ConvergenceWarning: The max_iter was reached which means the coef_ did not converge\n",
      "  \"the coef_ did not converge\", ConvergenceWarning)\n",
      "/Users/joycejiang/opt/anaconda3/lib/python3.7/site-packages/sklearn/linear_model/_sag.py:330: ConvergenceWarning: The max_iter was reached which means the coef_ did not converge\n",
      "  \"the coef_ did not converge\", ConvergenceWarning)\n",
      "/Users/joycejiang/opt/anaconda3/lib/python3.7/site-packages/sklearn/linear_model/_sag.py:330: ConvergenceWarning: The max_iter was reached which means the coef_ did not converge\n",
      "  \"the coef_ did not converge\", ConvergenceWarning)\n",
      "/Users/joycejiang/opt/anaconda3/lib/python3.7/site-packages/sklearn/linear_model/_sag.py:330: ConvergenceWarning: The max_iter was reached which means the coef_ did not converge\n",
      "  \"the coef_ did not converge\", ConvergenceWarning)\n",
      "/Users/joycejiang/opt/anaconda3/lib/python3.7/site-packages/sklearn/linear_model/_sag.py:330: ConvergenceWarning: The max_iter was reached which means the coef_ did not converge\n",
      "  \"the coef_ did not converge\", ConvergenceWarning)\n",
      "/Users/joycejiang/opt/anaconda3/lib/python3.7/site-packages/sklearn/linear_model/_sag.py:330: ConvergenceWarning: The max_iter was reached which means the coef_ did not converge\n",
      "  \"the coef_ did not converge\", ConvergenceWarning)\n",
      "/Users/joycejiang/opt/anaconda3/lib/python3.7/site-packages/sklearn/linear_model/_sag.py:330: ConvergenceWarning: The max_iter was reached which means the coef_ did not converge\n",
      "  \"the coef_ did not converge\", ConvergenceWarning)\n",
      "/Users/joycejiang/opt/anaconda3/lib/python3.7/site-packages/sklearn/linear_model/_sag.py:330: ConvergenceWarning: The max_iter was reached which means the coef_ did not converge\n",
      "  \"the coef_ did not converge\", ConvergenceWarning)\n",
      "/Users/joycejiang/opt/anaconda3/lib/python3.7/site-packages/sklearn/linear_model/_sag.py:330: ConvergenceWarning: The max_iter was reached which means the coef_ did not converge\n",
      "  \"the coef_ did not converge\", ConvergenceWarning)\n",
      "/Users/joycejiang/opt/anaconda3/lib/python3.7/site-packages/sklearn/linear_model/_sag.py:330: ConvergenceWarning: The max_iter was reached which means the coef_ did not converge\n",
      "  \"the coef_ did not converge\", ConvergenceWarning)\n",
      "/Users/joycejiang/opt/anaconda3/lib/python3.7/site-packages/sklearn/linear_model/_sag.py:330: ConvergenceWarning: The max_iter was reached which means the coef_ did not converge\n",
      "  \"the coef_ did not converge\", ConvergenceWarning)\n",
      "/Users/joycejiang/opt/anaconda3/lib/python3.7/site-packages/sklearn/linear_model/_sag.py:330: ConvergenceWarning: The max_iter was reached which means the coef_ did not converge\n",
      "  \"the coef_ did not converge\", ConvergenceWarning)\n",
      "/Users/joycejiang/opt/anaconda3/lib/python3.7/site-packages/sklearn/linear_model/_sag.py:330: ConvergenceWarning: The max_iter was reached which means the coef_ did not converge\n",
      "  \"the coef_ did not converge\", ConvergenceWarning)\n",
      "/Users/joycejiang/opt/anaconda3/lib/python3.7/site-packages/sklearn/linear_model/_sag.py:330: ConvergenceWarning: The max_iter was reached which means the coef_ did not converge\n",
      "  \"the coef_ did not converge\", ConvergenceWarning)\n",
      "/Users/joycejiang/opt/anaconda3/lib/python3.7/site-packages/sklearn/linear_model/_sag.py:330: ConvergenceWarning: The max_iter was reached which means the coef_ did not converge\n",
      "  \"the coef_ did not converge\", ConvergenceWarning)\n",
      "/Users/joycejiang/opt/anaconda3/lib/python3.7/site-packages/sklearn/linear_model/_sag.py:330: ConvergenceWarning: The max_iter was reached which means the coef_ did not converge\n",
      "  \"the coef_ did not converge\", ConvergenceWarning)\n",
      "/Users/joycejiang/opt/anaconda3/lib/python3.7/site-packages/sklearn/linear_model/_sag.py:330: ConvergenceWarning: The max_iter was reached which means the coef_ did not converge\n",
      "  \"the coef_ did not converge\", ConvergenceWarning)\n",
      "/Users/joycejiang/opt/anaconda3/lib/python3.7/site-packages/sklearn/linear_model/_sag.py:330: ConvergenceWarning: The max_iter was reached which means the coef_ did not converge\n",
      "  \"the coef_ did not converge\", ConvergenceWarning)\n",
      "/Users/joycejiang/opt/anaconda3/lib/python3.7/site-packages/sklearn/linear_model/_sag.py:330: ConvergenceWarning: The max_iter was reached which means the coef_ did not converge\n",
      "  \"the coef_ did not converge\", ConvergenceWarning)\n",
      "/Users/joycejiang/opt/anaconda3/lib/python3.7/site-packages/sklearn/linear_model/_sag.py:330: ConvergenceWarning: The max_iter was reached which means the coef_ did not converge\n",
      "  \"the coef_ did not converge\", ConvergenceWarning)\n",
      "/Users/joycejiang/opt/anaconda3/lib/python3.7/site-packages/sklearn/linear_model/_sag.py:330: ConvergenceWarning: The max_iter was reached which means the coef_ did not converge\n",
      "  \"the coef_ did not converge\", ConvergenceWarning)\n",
      "/Users/joycejiang/opt/anaconda3/lib/python3.7/site-packages/sklearn/linear_model/_sag.py:330: ConvergenceWarning: The max_iter was reached which means the coef_ did not converge\n",
      "  \"the coef_ did not converge\", ConvergenceWarning)\n",
      "/Users/joycejiang/opt/anaconda3/lib/python3.7/site-packages/sklearn/linear_model/_sag.py:330: ConvergenceWarning: The max_iter was reached which means the coef_ did not converge\n",
      "  \"the coef_ did not converge\", ConvergenceWarning)\n",
      "/Users/joycejiang/opt/anaconda3/lib/python3.7/site-packages/sklearn/linear_model/_sag.py:330: ConvergenceWarning: The max_iter was reached which means the coef_ did not converge\n",
      "  \"the coef_ did not converge\", ConvergenceWarning)\n",
      "/Users/joycejiang/opt/anaconda3/lib/python3.7/site-packages/sklearn/linear_model/_sag.py:330: ConvergenceWarning: The max_iter was reached which means the coef_ did not converge\n",
      "  \"the coef_ did not converge\", ConvergenceWarning)\n",
      "/Users/joycejiang/opt/anaconda3/lib/python3.7/site-packages/sklearn/linear_model/_sag.py:330: ConvergenceWarning: The max_iter was reached which means the coef_ did not converge\n",
      "  \"the coef_ did not converge\", ConvergenceWarning)\n",
      "/Users/joycejiang/opt/anaconda3/lib/python3.7/site-packages/sklearn/linear_model/_sag.py:330: ConvergenceWarning: The max_iter was reached which means the coef_ did not converge\n",
      "  \"the coef_ did not converge\", ConvergenceWarning)\n",
      "/Users/joycejiang/opt/anaconda3/lib/python3.7/site-packages/sklearn/linear_model/_sag.py:330: ConvergenceWarning: The max_iter was reached which means the coef_ did not converge\n",
      "  \"the coef_ did not converge\", ConvergenceWarning)\n",
      "/Users/joycejiang/opt/anaconda3/lib/python3.7/site-packages/sklearn/linear_model/_sag.py:330: ConvergenceWarning: The max_iter was reached which means the coef_ did not converge\n",
      "  \"the coef_ did not converge\", ConvergenceWarning)\n",
      "/Users/joycejiang/opt/anaconda3/lib/python3.7/site-packages/sklearn/linear_model/_sag.py:330: ConvergenceWarning: The max_iter was reached which means the coef_ did not converge\n",
      "  \"the coef_ did not converge\", ConvergenceWarning)\n"
     ]
    },
    {
     "name": "stdout",
     "output_type": "stream",
     "text": [
      "0.8185297038431796 {'solver': 'newton-cg', 'penalty': 'l2'}\n",
      "0.8185313213576261 {'solver': 'lbfgs', 'penalty': 'l2'}\n",
      "0.8185297038431796 {'solver': 'sag', 'penalty': 'l2'}\n",
      "0.8185288933921522 {'solver': 'saga', 'penalty': 'l2'}\n",
      "0.8185264722018951 {'solver': 'newton-cg', 'penalty': 'none'}\n",
      "0.8185264722018951 {'solver': 'lbfgs', 'penalty': 'none'}\n",
      "0.81852809310395 {'solver': 'sag', 'penalty': 'none'}\n",
      "0.8185264688142868 {'solver': 'saga', 'penalty': 'none'}\n",
      "LogisticRegression(C=1.0, class_weight=None, dual=False, fit_intercept=True,\n",
      "                   intercept_scaling=1, l1_ratio=None, max_iter=100,\n",
      "                   multi_class='auto', n_jobs=None, penalty='l2',\n",
      "                   random_state=None, solver='lbfgs', tol=0.0001, verbose=0,\n",
      "                   warm_start=False)\n"
     ]
    },
    {
     "data": {
      "text/plain": [
       "['model/best_l2_model.pkl']"
      ]
     },
     "execution_count": 155,
     "metadata": {},
     "output_type": "execute_result"
    }
   ],
   "source": [
    "# Define the range of parameter setting for Linear Regression model\n",
    "param_distribs = {\n",
    "    'penalty':['l2','none'],\n",
    "    'solver':['newton-cg','lbfgs','sag','saga'],\n",
    "    }\n",
    "clf=LogisticRegression()\n",
    "\n",
    "# Run RandomizedSearchCV method on Linear Regression by randomly selecting parameters within the range \n",
    "rnd_search = RandomizedSearchCV(clf, param_distributions=param_distribs,\n",
    "                                n_iter=10, cv=15, scoring='roc_auc', random_state=42)\n",
    "rnd_search.fit(treatment_prepared, treatment_labels)\n",
    "\n",
    "# Compute AUC scores of all randomly performed parameter settings and print their AUC values \n",
    "cvres = rnd_search.cv_results_\n",
    "for mean_score, params in zip(cvres[\"mean_test_score\"], cvres[\"params\"]):\n",
    "    print(mean_score, params)\n",
    "\n",
    "# Identify the best Logistic Regression model from the models generated \n",
    "best_estimator = rnd_search.best_estimator_\n",
    "best_models=[]\n",
    "best_models.append(best_estimator)\n",
    "print(best_estimator)\n",
    "\n",
    "# Save the current best model for future usage \n",
    "joblib.dump(best_estimator,'model/best_l2_model.pkl')"
   ]
  },
  {
   "cell_type": "markdown",
   "metadata": {},
   "source": [
    "Use RandomizedSearchCV method to randomly test a series of models with different parameter settings (Geron, 2019; Sklearn Documentation, 2020).\n",
    "\n",
    "In this step, we will run this method on Logistic Regression models with Elastic Net penalty with different l1_ratio settings. The reason we skip the model with L1 penalty is that we can achieve L1 effect by setting the L1_ratio to 1 and achieve L2 effect by setting the ratio to 0. (Sklean Documentation, 2020).\n",
    "\n",
    "Save the best model for the test data. "
   ]
  },
  {
   "cell_type": "code",
   "execution_count": 156,
   "metadata": {
    "scrolled": false
   },
   "outputs": [
    {
     "name": "stderr",
     "output_type": "stream",
     "text": [
      "/Users/joycejiang/opt/anaconda3/lib/python3.7/site-packages/sklearn/linear_model/_sag.py:330: ConvergenceWarning: The max_iter was reached which means the coef_ did not converge\n",
      "  \"the coef_ did not converge\", ConvergenceWarning)\n",
      "/Users/joycejiang/opt/anaconda3/lib/python3.7/site-packages/sklearn/linear_model/_sag.py:330: ConvergenceWarning: The max_iter was reached which means the coef_ did not converge\n",
      "  \"the coef_ did not converge\", ConvergenceWarning)\n",
      "/Users/joycejiang/opt/anaconda3/lib/python3.7/site-packages/sklearn/linear_model/_sag.py:330: ConvergenceWarning: The max_iter was reached which means the coef_ did not converge\n",
      "  \"the coef_ did not converge\", ConvergenceWarning)\n",
      "/Users/joycejiang/opt/anaconda3/lib/python3.7/site-packages/sklearn/linear_model/_sag.py:330: ConvergenceWarning: The max_iter was reached which means the coef_ did not converge\n",
      "  \"the coef_ did not converge\", ConvergenceWarning)\n",
      "/Users/joycejiang/opt/anaconda3/lib/python3.7/site-packages/sklearn/linear_model/_sag.py:330: ConvergenceWarning: The max_iter was reached which means the coef_ did not converge\n",
      "  \"the coef_ did not converge\", ConvergenceWarning)\n",
      "/Users/joycejiang/opt/anaconda3/lib/python3.7/site-packages/sklearn/linear_model/_sag.py:330: ConvergenceWarning: The max_iter was reached which means the coef_ did not converge\n",
      "  \"the coef_ did not converge\", ConvergenceWarning)\n",
      "/Users/joycejiang/opt/anaconda3/lib/python3.7/site-packages/sklearn/linear_model/_sag.py:330: ConvergenceWarning: The max_iter was reached which means the coef_ did not converge\n",
      "  \"the coef_ did not converge\", ConvergenceWarning)\n",
      "/Users/joycejiang/opt/anaconda3/lib/python3.7/site-packages/sklearn/linear_model/_sag.py:330: ConvergenceWarning: The max_iter was reached which means the coef_ did not converge\n",
      "  \"the coef_ did not converge\", ConvergenceWarning)\n",
      "/Users/joycejiang/opt/anaconda3/lib/python3.7/site-packages/sklearn/linear_model/_sag.py:330: ConvergenceWarning: The max_iter was reached which means the coef_ did not converge\n",
      "  \"the coef_ did not converge\", ConvergenceWarning)\n",
      "/Users/joycejiang/opt/anaconda3/lib/python3.7/site-packages/sklearn/linear_model/_sag.py:330: ConvergenceWarning: The max_iter was reached which means the coef_ did not converge\n",
      "  \"the coef_ did not converge\", ConvergenceWarning)\n",
      "/Users/joycejiang/opt/anaconda3/lib/python3.7/site-packages/sklearn/linear_model/_sag.py:330: ConvergenceWarning: The max_iter was reached which means the coef_ did not converge\n",
      "  \"the coef_ did not converge\", ConvergenceWarning)\n",
      "/Users/joycejiang/opt/anaconda3/lib/python3.7/site-packages/sklearn/linear_model/_sag.py:330: ConvergenceWarning: The max_iter was reached which means the coef_ did not converge\n",
      "  \"the coef_ did not converge\", ConvergenceWarning)\n",
      "/Users/joycejiang/opt/anaconda3/lib/python3.7/site-packages/sklearn/linear_model/_sag.py:330: ConvergenceWarning: The max_iter was reached which means the coef_ did not converge\n",
      "  \"the coef_ did not converge\", ConvergenceWarning)\n",
      "/Users/joycejiang/opt/anaconda3/lib/python3.7/site-packages/sklearn/linear_model/_sag.py:330: ConvergenceWarning: The max_iter was reached which means the coef_ did not converge\n",
      "  \"the coef_ did not converge\", ConvergenceWarning)\n",
      "/Users/joycejiang/opt/anaconda3/lib/python3.7/site-packages/sklearn/linear_model/_sag.py:330: ConvergenceWarning: The max_iter was reached which means the coef_ did not converge\n",
      "  \"the coef_ did not converge\", ConvergenceWarning)\n",
      "/Users/joycejiang/opt/anaconda3/lib/python3.7/site-packages/sklearn/linear_model/_sag.py:330: ConvergenceWarning: The max_iter was reached which means the coef_ did not converge\n",
      "  \"the coef_ did not converge\", ConvergenceWarning)\n",
      "/Users/joycejiang/opt/anaconda3/lib/python3.7/site-packages/sklearn/linear_model/_sag.py:330: ConvergenceWarning: The max_iter was reached which means the coef_ did not converge\n",
      "  \"the coef_ did not converge\", ConvergenceWarning)\n",
      "/Users/joycejiang/opt/anaconda3/lib/python3.7/site-packages/sklearn/linear_model/_sag.py:330: ConvergenceWarning: The max_iter was reached which means the coef_ did not converge\n",
      "  \"the coef_ did not converge\", ConvergenceWarning)\n",
      "/Users/joycejiang/opt/anaconda3/lib/python3.7/site-packages/sklearn/linear_model/_sag.py:330: ConvergenceWarning: The max_iter was reached which means the coef_ did not converge\n",
      "  \"the coef_ did not converge\", ConvergenceWarning)\n",
      "/Users/joycejiang/opt/anaconda3/lib/python3.7/site-packages/sklearn/linear_model/_sag.py:330: ConvergenceWarning: The max_iter was reached which means the coef_ did not converge\n",
      "  \"the coef_ did not converge\", ConvergenceWarning)\n",
      "/Users/joycejiang/opt/anaconda3/lib/python3.7/site-packages/sklearn/linear_model/_sag.py:330: ConvergenceWarning: The max_iter was reached which means the coef_ did not converge\n",
      "  \"the coef_ did not converge\", ConvergenceWarning)\n",
      "/Users/joycejiang/opt/anaconda3/lib/python3.7/site-packages/sklearn/linear_model/_sag.py:330: ConvergenceWarning: The max_iter was reached which means the coef_ did not converge\n",
      "  \"the coef_ did not converge\", ConvergenceWarning)\n",
      "/Users/joycejiang/opt/anaconda3/lib/python3.7/site-packages/sklearn/linear_model/_sag.py:330: ConvergenceWarning: The max_iter was reached which means the coef_ did not converge\n",
      "  \"the coef_ did not converge\", ConvergenceWarning)\n",
      "/Users/joycejiang/opt/anaconda3/lib/python3.7/site-packages/sklearn/linear_model/_sag.py:330: ConvergenceWarning: The max_iter was reached which means the coef_ did not converge\n",
      "  \"the coef_ did not converge\", ConvergenceWarning)\n",
      "/Users/joycejiang/opt/anaconda3/lib/python3.7/site-packages/sklearn/linear_model/_sag.py:330: ConvergenceWarning: The max_iter was reached which means the coef_ did not converge\n",
      "  \"the coef_ did not converge\", ConvergenceWarning)\n",
      "/Users/joycejiang/opt/anaconda3/lib/python3.7/site-packages/sklearn/linear_model/_sag.py:330: ConvergenceWarning: The max_iter was reached which means the coef_ did not converge\n",
      "  \"the coef_ did not converge\", ConvergenceWarning)\n",
      "/Users/joycejiang/opt/anaconda3/lib/python3.7/site-packages/sklearn/linear_model/_sag.py:330: ConvergenceWarning: The max_iter was reached which means the coef_ did not converge\n",
      "  \"the coef_ did not converge\", ConvergenceWarning)\n",
      "/Users/joycejiang/opt/anaconda3/lib/python3.7/site-packages/sklearn/linear_model/_sag.py:330: ConvergenceWarning: The max_iter was reached which means the coef_ did not converge\n",
      "  \"the coef_ did not converge\", ConvergenceWarning)\n",
      "/Users/joycejiang/opt/anaconda3/lib/python3.7/site-packages/sklearn/linear_model/_sag.py:330: ConvergenceWarning: The max_iter was reached which means the coef_ did not converge\n",
      "  \"the coef_ did not converge\", ConvergenceWarning)\n",
      "/Users/joycejiang/opt/anaconda3/lib/python3.7/site-packages/sklearn/linear_model/_sag.py:330: ConvergenceWarning: The max_iter was reached which means the coef_ did not converge\n",
      "  \"the coef_ did not converge\", ConvergenceWarning)\n",
      "/Users/joycejiang/opt/anaconda3/lib/python3.7/site-packages/sklearn/linear_model/_sag.py:330: ConvergenceWarning: The max_iter was reached which means the coef_ did not converge\n",
      "  \"the coef_ did not converge\", ConvergenceWarning)\n",
      "/Users/joycejiang/opt/anaconda3/lib/python3.7/site-packages/sklearn/linear_model/_sag.py:330: ConvergenceWarning: The max_iter was reached which means the coef_ did not converge\n",
      "  \"the coef_ did not converge\", ConvergenceWarning)\n",
      "/Users/joycejiang/opt/anaconda3/lib/python3.7/site-packages/sklearn/linear_model/_sag.py:330: ConvergenceWarning: The max_iter was reached which means the coef_ did not converge\n",
      "  \"the coef_ did not converge\", ConvergenceWarning)\n",
      "/Users/joycejiang/opt/anaconda3/lib/python3.7/site-packages/sklearn/linear_model/_sag.py:330: ConvergenceWarning: The max_iter was reached which means the coef_ did not converge\n",
      "  \"the coef_ did not converge\", ConvergenceWarning)\n",
      "/Users/joycejiang/opt/anaconda3/lib/python3.7/site-packages/sklearn/linear_model/_sag.py:330: ConvergenceWarning: The max_iter was reached which means the coef_ did not converge\n",
      "  \"the coef_ did not converge\", ConvergenceWarning)\n",
      "/Users/joycejiang/opt/anaconda3/lib/python3.7/site-packages/sklearn/linear_model/_sag.py:330: ConvergenceWarning: The max_iter was reached which means the coef_ did not converge\n",
      "  \"the coef_ did not converge\", ConvergenceWarning)\n"
     ]
    },
    {
     "name": "stderr",
     "output_type": "stream",
     "text": [
      "/Users/joycejiang/opt/anaconda3/lib/python3.7/site-packages/sklearn/linear_model/_sag.py:330: ConvergenceWarning: The max_iter was reached which means the coef_ did not converge\n",
      "  \"the coef_ did not converge\", ConvergenceWarning)\n",
      "/Users/joycejiang/opt/anaconda3/lib/python3.7/site-packages/sklearn/linear_model/_sag.py:330: ConvergenceWarning: The max_iter was reached which means the coef_ did not converge\n",
      "  \"the coef_ did not converge\", ConvergenceWarning)\n",
      "/Users/joycejiang/opt/anaconda3/lib/python3.7/site-packages/sklearn/linear_model/_sag.py:330: ConvergenceWarning: The max_iter was reached which means the coef_ did not converge\n",
      "  \"the coef_ did not converge\", ConvergenceWarning)\n",
      "/Users/joycejiang/opt/anaconda3/lib/python3.7/site-packages/sklearn/linear_model/_sag.py:330: ConvergenceWarning: The max_iter was reached which means the coef_ did not converge\n",
      "  \"the coef_ did not converge\", ConvergenceWarning)\n",
      "/Users/joycejiang/opt/anaconda3/lib/python3.7/site-packages/sklearn/linear_model/_sag.py:330: ConvergenceWarning: The max_iter was reached which means the coef_ did not converge\n",
      "  \"the coef_ did not converge\", ConvergenceWarning)\n",
      "/Users/joycejiang/opt/anaconda3/lib/python3.7/site-packages/sklearn/linear_model/_sag.py:330: ConvergenceWarning: The max_iter was reached which means the coef_ did not converge\n",
      "  \"the coef_ did not converge\", ConvergenceWarning)\n",
      "/Users/joycejiang/opt/anaconda3/lib/python3.7/site-packages/sklearn/linear_model/_sag.py:330: ConvergenceWarning: The max_iter was reached which means the coef_ did not converge\n",
      "  \"the coef_ did not converge\", ConvergenceWarning)\n",
      "/Users/joycejiang/opt/anaconda3/lib/python3.7/site-packages/sklearn/linear_model/_sag.py:330: ConvergenceWarning: The max_iter was reached which means the coef_ did not converge\n",
      "  \"the coef_ did not converge\", ConvergenceWarning)\n",
      "/Users/joycejiang/opt/anaconda3/lib/python3.7/site-packages/sklearn/linear_model/_sag.py:330: ConvergenceWarning: The max_iter was reached which means the coef_ did not converge\n",
      "  \"the coef_ did not converge\", ConvergenceWarning)\n",
      "/Users/joycejiang/opt/anaconda3/lib/python3.7/site-packages/sklearn/linear_model/_sag.py:330: ConvergenceWarning: The max_iter was reached which means the coef_ did not converge\n",
      "  \"the coef_ did not converge\", ConvergenceWarning)\n",
      "/Users/joycejiang/opt/anaconda3/lib/python3.7/site-packages/sklearn/linear_model/_sag.py:330: ConvergenceWarning: The max_iter was reached which means the coef_ did not converge\n",
      "  \"the coef_ did not converge\", ConvergenceWarning)\n",
      "/Users/joycejiang/opt/anaconda3/lib/python3.7/site-packages/sklearn/linear_model/_sag.py:330: ConvergenceWarning: The max_iter was reached which means the coef_ did not converge\n",
      "  \"the coef_ did not converge\", ConvergenceWarning)\n",
      "/Users/joycejiang/opt/anaconda3/lib/python3.7/site-packages/sklearn/linear_model/_sag.py:330: ConvergenceWarning: The max_iter was reached which means the coef_ did not converge\n",
      "  \"the coef_ did not converge\", ConvergenceWarning)\n",
      "/Users/joycejiang/opt/anaconda3/lib/python3.7/site-packages/sklearn/linear_model/_sag.py:330: ConvergenceWarning: The max_iter was reached which means the coef_ did not converge\n",
      "  \"the coef_ did not converge\", ConvergenceWarning)\n",
      "/Users/joycejiang/opt/anaconda3/lib/python3.7/site-packages/sklearn/linear_model/_sag.py:330: ConvergenceWarning: The max_iter was reached which means the coef_ did not converge\n",
      "  \"the coef_ did not converge\", ConvergenceWarning)\n",
      "/Users/joycejiang/opt/anaconda3/lib/python3.7/site-packages/sklearn/linear_model/_sag.py:330: ConvergenceWarning: The max_iter was reached which means the coef_ did not converge\n",
      "  \"the coef_ did not converge\", ConvergenceWarning)\n",
      "/Users/joycejiang/opt/anaconda3/lib/python3.7/site-packages/sklearn/linear_model/_sag.py:330: ConvergenceWarning: The max_iter was reached which means the coef_ did not converge\n",
      "  \"the coef_ did not converge\", ConvergenceWarning)\n",
      "/Users/joycejiang/opt/anaconda3/lib/python3.7/site-packages/sklearn/linear_model/_sag.py:330: ConvergenceWarning: The max_iter was reached which means the coef_ did not converge\n",
      "  \"the coef_ did not converge\", ConvergenceWarning)\n",
      "/Users/joycejiang/opt/anaconda3/lib/python3.7/site-packages/sklearn/linear_model/_sag.py:330: ConvergenceWarning: The max_iter was reached which means the coef_ did not converge\n",
      "  \"the coef_ did not converge\", ConvergenceWarning)\n",
      "/Users/joycejiang/opt/anaconda3/lib/python3.7/site-packages/sklearn/linear_model/_sag.py:330: ConvergenceWarning: The max_iter was reached which means the coef_ did not converge\n",
      "  \"the coef_ did not converge\", ConvergenceWarning)\n",
      "/Users/joycejiang/opt/anaconda3/lib/python3.7/site-packages/sklearn/linear_model/_sag.py:330: ConvergenceWarning: The max_iter was reached which means the coef_ did not converge\n",
      "  \"the coef_ did not converge\", ConvergenceWarning)\n",
      "/Users/joycejiang/opt/anaconda3/lib/python3.7/site-packages/sklearn/linear_model/_sag.py:330: ConvergenceWarning: The max_iter was reached which means the coef_ did not converge\n",
      "  \"the coef_ did not converge\", ConvergenceWarning)\n",
      "/Users/joycejiang/opt/anaconda3/lib/python3.7/site-packages/sklearn/linear_model/_sag.py:330: ConvergenceWarning: The max_iter was reached which means the coef_ did not converge\n",
      "  \"the coef_ did not converge\", ConvergenceWarning)\n",
      "/Users/joycejiang/opt/anaconda3/lib/python3.7/site-packages/sklearn/linear_model/_sag.py:330: ConvergenceWarning: The max_iter was reached which means the coef_ did not converge\n",
      "  \"the coef_ did not converge\", ConvergenceWarning)\n",
      "/Users/joycejiang/opt/anaconda3/lib/python3.7/site-packages/sklearn/linear_model/_sag.py:330: ConvergenceWarning: The max_iter was reached which means the coef_ did not converge\n",
      "  \"the coef_ did not converge\", ConvergenceWarning)\n",
      "/Users/joycejiang/opt/anaconda3/lib/python3.7/site-packages/sklearn/linear_model/_sag.py:330: ConvergenceWarning: The max_iter was reached which means the coef_ did not converge\n",
      "  \"the coef_ did not converge\", ConvergenceWarning)\n",
      "/Users/joycejiang/opt/anaconda3/lib/python3.7/site-packages/sklearn/linear_model/_sag.py:330: ConvergenceWarning: The max_iter was reached which means the coef_ did not converge\n",
      "  \"the coef_ did not converge\", ConvergenceWarning)\n",
      "/Users/joycejiang/opt/anaconda3/lib/python3.7/site-packages/sklearn/linear_model/_sag.py:330: ConvergenceWarning: The max_iter was reached which means the coef_ did not converge\n",
      "  \"the coef_ did not converge\", ConvergenceWarning)\n",
      "/Users/joycejiang/opt/anaconda3/lib/python3.7/site-packages/sklearn/linear_model/_sag.py:330: ConvergenceWarning: The max_iter was reached which means the coef_ did not converge\n",
      "  \"the coef_ did not converge\", ConvergenceWarning)\n",
      "/Users/joycejiang/opt/anaconda3/lib/python3.7/site-packages/sklearn/linear_model/_sag.py:330: ConvergenceWarning: The max_iter was reached which means the coef_ did not converge\n",
      "  \"the coef_ did not converge\", ConvergenceWarning)\n",
      "/Users/joycejiang/opt/anaconda3/lib/python3.7/site-packages/sklearn/linear_model/_sag.py:330: ConvergenceWarning: The max_iter was reached which means the coef_ did not converge\n",
      "  \"the coef_ did not converge\", ConvergenceWarning)\n",
      "/Users/joycejiang/opt/anaconda3/lib/python3.7/site-packages/sklearn/linear_model/_sag.py:330: ConvergenceWarning: The max_iter was reached which means the coef_ did not converge\n",
      "  \"the coef_ did not converge\", ConvergenceWarning)\n",
      "/Users/joycejiang/opt/anaconda3/lib/python3.7/site-packages/sklearn/linear_model/_sag.py:330: ConvergenceWarning: The max_iter was reached which means the coef_ did not converge\n",
      "  \"the coef_ did not converge\", ConvergenceWarning)\n",
      "/Users/joycejiang/opt/anaconda3/lib/python3.7/site-packages/sklearn/linear_model/_sag.py:330: ConvergenceWarning: The max_iter was reached which means the coef_ did not converge\n",
      "  \"the coef_ did not converge\", ConvergenceWarning)\n",
      "/Users/joycejiang/opt/anaconda3/lib/python3.7/site-packages/sklearn/linear_model/_sag.py:330: ConvergenceWarning: The max_iter was reached which means the coef_ did not converge\n",
      "  \"the coef_ did not converge\", ConvergenceWarning)\n",
      "/Users/joycejiang/opt/anaconda3/lib/python3.7/site-packages/sklearn/linear_model/_sag.py:330: ConvergenceWarning: The max_iter was reached which means the coef_ did not converge\n",
      "  \"the coef_ did not converge\", ConvergenceWarning)\n"
     ]
    },
    {
     "name": "stderr",
     "output_type": "stream",
     "text": [
      "/Users/joycejiang/opt/anaconda3/lib/python3.7/site-packages/sklearn/linear_model/_sag.py:330: ConvergenceWarning: The max_iter was reached which means the coef_ did not converge\n",
      "  \"the coef_ did not converge\", ConvergenceWarning)\n",
      "/Users/joycejiang/opt/anaconda3/lib/python3.7/site-packages/sklearn/linear_model/_sag.py:330: ConvergenceWarning: The max_iter was reached which means the coef_ did not converge\n",
      "  \"the coef_ did not converge\", ConvergenceWarning)\n",
      "/Users/joycejiang/opt/anaconda3/lib/python3.7/site-packages/sklearn/linear_model/_sag.py:330: ConvergenceWarning: The max_iter was reached which means the coef_ did not converge\n",
      "  \"the coef_ did not converge\", ConvergenceWarning)\n",
      "/Users/joycejiang/opt/anaconda3/lib/python3.7/site-packages/sklearn/linear_model/_sag.py:330: ConvergenceWarning: The max_iter was reached which means the coef_ did not converge\n",
      "  \"the coef_ did not converge\", ConvergenceWarning)\n",
      "/Users/joycejiang/opt/anaconda3/lib/python3.7/site-packages/sklearn/linear_model/_sag.py:330: ConvergenceWarning: The max_iter was reached which means the coef_ did not converge\n",
      "  \"the coef_ did not converge\", ConvergenceWarning)\n",
      "/Users/joycejiang/opt/anaconda3/lib/python3.7/site-packages/sklearn/linear_model/_sag.py:330: ConvergenceWarning: The max_iter was reached which means the coef_ did not converge\n",
      "  \"the coef_ did not converge\", ConvergenceWarning)\n",
      "/Users/joycejiang/opt/anaconda3/lib/python3.7/site-packages/sklearn/linear_model/_sag.py:330: ConvergenceWarning: The max_iter was reached which means the coef_ did not converge\n",
      "  \"the coef_ did not converge\", ConvergenceWarning)\n",
      "/Users/joycejiang/opt/anaconda3/lib/python3.7/site-packages/sklearn/linear_model/_sag.py:330: ConvergenceWarning: The max_iter was reached which means the coef_ did not converge\n",
      "  \"the coef_ did not converge\", ConvergenceWarning)\n",
      "/Users/joycejiang/opt/anaconda3/lib/python3.7/site-packages/sklearn/linear_model/_sag.py:330: ConvergenceWarning: The max_iter was reached which means the coef_ did not converge\n",
      "  \"the coef_ did not converge\", ConvergenceWarning)\n",
      "/Users/joycejiang/opt/anaconda3/lib/python3.7/site-packages/sklearn/linear_model/_sag.py:330: ConvergenceWarning: The max_iter was reached which means the coef_ did not converge\n",
      "  \"the coef_ did not converge\", ConvergenceWarning)\n",
      "/Users/joycejiang/opt/anaconda3/lib/python3.7/site-packages/sklearn/linear_model/_sag.py:330: ConvergenceWarning: The max_iter was reached which means the coef_ did not converge\n",
      "  \"the coef_ did not converge\", ConvergenceWarning)\n",
      "/Users/joycejiang/opt/anaconda3/lib/python3.7/site-packages/sklearn/linear_model/_sag.py:330: ConvergenceWarning: The max_iter was reached which means the coef_ did not converge\n",
      "  \"the coef_ did not converge\", ConvergenceWarning)\n",
      "/Users/joycejiang/opt/anaconda3/lib/python3.7/site-packages/sklearn/linear_model/_sag.py:330: ConvergenceWarning: The max_iter was reached which means the coef_ did not converge\n",
      "  \"the coef_ did not converge\", ConvergenceWarning)\n",
      "/Users/joycejiang/opt/anaconda3/lib/python3.7/site-packages/sklearn/linear_model/_sag.py:330: ConvergenceWarning: The max_iter was reached which means the coef_ did not converge\n",
      "  \"the coef_ did not converge\", ConvergenceWarning)\n",
      "/Users/joycejiang/opt/anaconda3/lib/python3.7/site-packages/sklearn/linear_model/_sag.py:330: ConvergenceWarning: The max_iter was reached which means the coef_ did not converge\n",
      "  \"the coef_ did not converge\", ConvergenceWarning)\n",
      "/Users/joycejiang/opt/anaconda3/lib/python3.7/site-packages/sklearn/linear_model/_sag.py:330: ConvergenceWarning: The max_iter was reached which means the coef_ did not converge\n",
      "  \"the coef_ did not converge\", ConvergenceWarning)\n",
      "/Users/joycejiang/opt/anaconda3/lib/python3.7/site-packages/sklearn/linear_model/_sag.py:330: ConvergenceWarning: The max_iter was reached which means the coef_ did not converge\n",
      "  \"the coef_ did not converge\", ConvergenceWarning)\n",
      "/Users/joycejiang/opt/anaconda3/lib/python3.7/site-packages/sklearn/linear_model/_sag.py:330: ConvergenceWarning: The max_iter was reached which means the coef_ did not converge\n",
      "  \"the coef_ did not converge\", ConvergenceWarning)\n",
      "/Users/joycejiang/opt/anaconda3/lib/python3.7/site-packages/sklearn/linear_model/_sag.py:330: ConvergenceWarning: The max_iter was reached which means the coef_ did not converge\n",
      "  \"the coef_ did not converge\", ConvergenceWarning)\n",
      "/Users/joycejiang/opt/anaconda3/lib/python3.7/site-packages/sklearn/linear_model/_sag.py:330: ConvergenceWarning: The max_iter was reached which means the coef_ did not converge\n",
      "  \"the coef_ did not converge\", ConvergenceWarning)\n",
      "/Users/joycejiang/opt/anaconda3/lib/python3.7/site-packages/sklearn/linear_model/_sag.py:330: ConvergenceWarning: The max_iter was reached which means the coef_ did not converge\n",
      "  \"the coef_ did not converge\", ConvergenceWarning)\n",
      "/Users/joycejiang/opt/anaconda3/lib/python3.7/site-packages/sklearn/linear_model/_sag.py:330: ConvergenceWarning: The max_iter was reached which means the coef_ did not converge\n",
      "  \"the coef_ did not converge\", ConvergenceWarning)\n",
      "/Users/joycejiang/opt/anaconda3/lib/python3.7/site-packages/sklearn/linear_model/_sag.py:330: ConvergenceWarning: The max_iter was reached which means the coef_ did not converge\n",
      "  \"the coef_ did not converge\", ConvergenceWarning)\n",
      "/Users/joycejiang/opt/anaconda3/lib/python3.7/site-packages/sklearn/linear_model/_sag.py:330: ConvergenceWarning: The max_iter was reached which means the coef_ did not converge\n",
      "  \"the coef_ did not converge\", ConvergenceWarning)\n",
      "/Users/joycejiang/opt/anaconda3/lib/python3.7/site-packages/sklearn/linear_model/_sag.py:330: ConvergenceWarning: The max_iter was reached which means the coef_ did not converge\n",
      "  \"the coef_ did not converge\", ConvergenceWarning)\n",
      "/Users/joycejiang/opt/anaconda3/lib/python3.7/site-packages/sklearn/linear_model/_sag.py:330: ConvergenceWarning: The max_iter was reached which means the coef_ did not converge\n",
      "  \"the coef_ did not converge\", ConvergenceWarning)\n",
      "/Users/joycejiang/opt/anaconda3/lib/python3.7/site-packages/sklearn/linear_model/_sag.py:330: ConvergenceWarning: The max_iter was reached which means the coef_ did not converge\n",
      "  \"the coef_ did not converge\", ConvergenceWarning)\n",
      "/Users/joycejiang/opt/anaconda3/lib/python3.7/site-packages/sklearn/linear_model/_sag.py:330: ConvergenceWarning: The max_iter was reached which means the coef_ did not converge\n",
      "  \"the coef_ did not converge\", ConvergenceWarning)\n",
      "/Users/joycejiang/opt/anaconda3/lib/python3.7/site-packages/sklearn/linear_model/_sag.py:330: ConvergenceWarning: The max_iter was reached which means the coef_ did not converge\n",
      "  \"the coef_ did not converge\", ConvergenceWarning)\n",
      "/Users/joycejiang/opt/anaconda3/lib/python3.7/site-packages/sklearn/linear_model/_sag.py:330: ConvergenceWarning: The max_iter was reached which means the coef_ did not converge\n",
      "  \"the coef_ did not converge\", ConvergenceWarning)\n",
      "/Users/joycejiang/opt/anaconda3/lib/python3.7/site-packages/sklearn/linear_model/_sag.py:330: ConvergenceWarning: The max_iter was reached which means the coef_ did not converge\n",
      "  \"the coef_ did not converge\", ConvergenceWarning)\n",
      "/Users/joycejiang/opt/anaconda3/lib/python3.7/site-packages/sklearn/linear_model/_sag.py:330: ConvergenceWarning: The max_iter was reached which means the coef_ did not converge\n",
      "  \"the coef_ did not converge\", ConvergenceWarning)\n",
      "/Users/joycejiang/opt/anaconda3/lib/python3.7/site-packages/sklearn/linear_model/_sag.py:330: ConvergenceWarning: The max_iter was reached which means the coef_ did not converge\n",
      "  \"the coef_ did not converge\", ConvergenceWarning)\n",
      "/Users/joycejiang/opt/anaconda3/lib/python3.7/site-packages/sklearn/linear_model/_sag.py:330: ConvergenceWarning: The max_iter was reached which means the coef_ did not converge\n",
      "  \"the coef_ did not converge\", ConvergenceWarning)\n",
      "/Users/joycejiang/opt/anaconda3/lib/python3.7/site-packages/sklearn/linear_model/_sag.py:330: ConvergenceWarning: The max_iter was reached which means the coef_ did not converge\n",
      "  \"the coef_ did not converge\", ConvergenceWarning)\n",
      "/Users/joycejiang/opt/anaconda3/lib/python3.7/site-packages/sklearn/linear_model/_sag.py:330: ConvergenceWarning: The max_iter was reached which means the coef_ did not converge\n",
      "  \"the coef_ did not converge\", ConvergenceWarning)\n"
     ]
    },
    {
     "name": "stderr",
     "output_type": "stream",
     "text": [
      "/Users/joycejiang/opt/anaconda3/lib/python3.7/site-packages/sklearn/linear_model/_sag.py:330: ConvergenceWarning: The max_iter was reached which means the coef_ did not converge\n",
      "  \"the coef_ did not converge\", ConvergenceWarning)\n",
      "/Users/joycejiang/opt/anaconda3/lib/python3.7/site-packages/sklearn/linear_model/_sag.py:330: ConvergenceWarning: The max_iter was reached which means the coef_ did not converge\n",
      "  \"the coef_ did not converge\", ConvergenceWarning)\n",
      "/Users/joycejiang/opt/anaconda3/lib/python3.7/site-packages/sklearn/linear_model/_sag.py:330: ConvergenceWarning: The max_iter was reached which means the coef_ did not converge\n",
      "  \"the coef_ did not converge\", ConvergenceWarning)\n",
      "/Users/joycejiang/opt/anaconda3/lib/python3.7/site-packages/sklearn/linear_model/_sag.py:330: ConvergenceWarning: The max_iter was reached which means the coef_ did not converge\n",
      "  \"the coef_ did not converge\", ConvergenceWarning)\n",
      "/Users/joycejiang/opt/anaconda3/lib/python3.7/site-packages/sklearn/linear_model/_sag.py:330: ConvergenceWarning: The max_iter was reached which means the coef_ did not converge\n",
      "  \"the coef_ did not converge\", ConvergenceWarning)\n",
      "/Users/joycejiang/opt/anaconda3/lib/python3.7/site-packages/sklearn/linear_model/_sag.py:330: ConvergenceWarning: The max_iter was reached which means the coef_ did not converge\n",
      "  \"the coef_ did not converge\", ConvergenceWarning)\n",
      "/Users/joycejiang/opt/anaconda3/lib/python3.7/site-packages/sklearn/linear_model/_sag.py:330: ConvergenceWarning: The max_iter was reached which means the coef_ did not converge\n",
      "  \"the coef_ did not converge\", ConvergenceWarning)\n",
      "/Users/joycejiang/opt/anaconda3/lib/python3.7/site-packages/sklearn/linear_model/_sag.py:330: ConvergenceWarning: The max_iter was reached which means the coef_ did not converge\n",
      "  \"the coef_ did not converge\", ConvergenceWarning)\n",
      "/Users/joycejiang/opt/anaconda3/lib/python3.7/site-packages/sklearn/linear_model/_sag.py:330: ConvergenceWarning: The max_iter was reached which means the coef_ did not converge\n",
      "  \"the coef_ did not converge\", ConvergenceWarning)\n",
      "/Users/joycejiang/opt/anaconda3/lib/python3.7/site-packages/sklearn/linear_model/_sag.py:330: ConvergenceWarning: The max_iter was reached which means the coef_ did not converge\n",
      "  \"the coef_ did not converge\", ConvergenceWarning)\n",
      "/Users/joycejiang/opt/anaconda3/lib/python3.7/site-packages/sklearn/linear_model/_sag.py:330: ConvergenceWarning: The max_iter was reached which means the coef_ did not converge\n",
      "  \"the coef_ did not converge\", ConvergenceWarning)\n",
      "/Users/joycejiang/opt/anaconda3/lib/python3.7/site-packages/sklearn/linear_model/_sag.py:330: ConvergenceWarning: The max_iter was reached which means the coef_ did not converge\n",
      "  \"the coef_ did not converge\", ConvergenceWarning)\n",
      "/Users/joycejiang/opt/anaconda3/lib/python3.7/site-packages/sklearn/linear_model/_sag.py:330: ConvergenceWarning: The max_iter was reached which means the coef_ did not converge\n",
      "  \"the coef_ did not converge\", ConvergenceWarning)\n",
      "/Users/joycejiang/opt/anaconda3/lib/python3.7/site-packages/sklearn/linear_model/_sag.py:330: ConvergenceWarning: The max_iter was reached which means the coef_ did not converge\n",
      "  \"the coef_ did not converge\", ConvergenceWarning)\n",
      "/Users/joycejiang/opt/anaconda3/lib/python3.7/site-packages/sklearn/linear_model/_sag.py:330: ConvergenceWarning: The max_iter was reached which means the coef_ did not converge\n",
      "  \"the coef_ did not converge\", ConvergenceWarning)\n",
      "/Users/joycejiang/opt/anaconda3/lib/python3.7/site-packages/sklearn/linear_model/_sag.py:330: ConvergenceWarning: The max_iter was reached which means the coef_ did not converge\n",
      "  \"the coef_ did not converge\", ConvergenceWarning)\n",
      "/Users/joycejiang/opt/anaconda3/lib/python3.7/site-packages/sklearn/linear_model/_sag.py:330: ConvergenceWarning: The max_iter was reached which means the coef_ did not converge\n",
      "  \"the coef_ did not converge\", ConvergenceWarning)\n",
      "/Users/joycejiang/opt/anaconda3/lib/python3.7/site-packages/sklearn/linear_model/_sag.py:330: ConvergenceWarning: The max_iter was reached which means the coef_ did not converge\n",
      "  \"the coef_ did not converge\", ConvergenceWarning)\n",
      "/Users/joycejiang/opt/anaconda3/lib/python3.7/site-packages/sklearn/linear_model/_sag.py:330: ConvergenceWarning: The max_iter was reached which means the coef_ did not converge\n",
      "  \"the coef_ did not converge\", ConvergenceWarning)\n",
      "/Users/joycejiang/opt/anaconda3/lib/python3.7/site-packages/sklearn/linear_model/_sag.py:330: ConvergenceWarning: The max_iter was reached which means the coef_ did not converge\n",
      "  \"the coef_ did not converge\", ConvergenceWarning)\n",
      "/Users/joycejiang/opt/anaconda3/lib/python3.7/site-packages/sklearn/linear_model/_sag.py:330: ConvergenceWarning: The max_iter was reached which means the coef_ did not converge\n",
      "  \"the coef_ did not converge\", ConvergenceWarning)\n",
      "/Users/joycejiang/opt/anaconda3/lib/python3.7/site-packages/sklearn/linear_model/_sag.py:330: ConvergenceWarning: The max_iter was reached which means the coef_ did not converge\n",
      "  \"the coef_ did not converge\", ConvergenceWarning)\n",
      "/Users/joycejiang/opt/anaconda3/lib/python3.7/site-packages/sklearn/linear_model/_sag.py:330: ConvergenceWarning: The max_iter was reached which means the coef_ did not converge\n",
      "  \"the coef_ did not converge\", ConvergenceWarning)\n",
      "/Users/joycejiang/opt/anaconda3/lib/python3.7/site-packages/sklearn/linear_model/_sag.py:330: ConvergenceWarning: The max_iter was reached which means the coef_ did not converge\n",
      "  \"the coef_ did not converge\", ConvergenceWarning)\n",
      "/Users/joycejiang/opt/anaconda3/lib/python3.7/site-packages/sklearn/linear_model/_sag.py:330: ConvergenceWarning: The max_iter was reached which means the coef_ did not converge\n",
      "  \"the coef_ did not converge\", ConvergenceWarning)\n",
      "/Users/joycejiang/opt/anaconda3/lib/python3.7/site-packages/sklearn/linear_model/_sag.py:330: ConvergenceWarning: The max_iter was reached which means the coef_ did not converge\n",
      "  \"the coef_ did not converge\", ConvergenceWarning)\n",
      "/Users/joycejiang/opt/anaconda3/lib/python3.7/site-packages/sklearn/linear_model/_sag.py:330: ConvergenceWarning: The max_iter was reached which means the coef_ did not converge\n",
      "  \"the coef_ did not converge\", ConvergenceWarning)\n",
      "/Users/joycejiang/opt/anaconda3/lib/python3.7/site-packages/sklearn/linear_model/_sag.py:330: ConvergenceWarning: The max_iter was reached which means the coef_ did not converge\n",
      "  \"the coef_ did not converge\", ConvergenceWarning)\n",
      "/Users/joycejiang/opt/anaconda3/lib/python3.7/site-packages/sklearn/linear_model/_sag.py:330: ConvergenceWarning: The max_iter was reached which means the coef_ did not converge\n",
      "  \"the coef_ did not converge\", ConvergenceWarning)\n",
      "/Users/joycejiang/opt/anaconda3/lib/python3.7/site-packages/sklearn/linear_model/_sag.py:330: ConvergenceWarning: The max_iter was reached which means the coef_ did not converge\n",
      "  \"the coef_ did not converge\", ConvergenceWarning)\n",
      "/Users/joycejiang/opt/anaconda3/lib/python3.7/site-packages/sklearn/linear_model/_sag.py:330: ConvergenceWarning: The max_iter was reached which means the coef_ did not converge\n",
      "  \"the coef_ did not converge\", ConvergenceWarning)\n",
      "/Users/joycejiang/opt/anaconda3/lib/python3.7/site-packages/sklearn/linear_model/_sag.py:330: ConvergenceWarning: The max_iter was reached which means the coef_ did not converge\n",
      "  \"the coef_ did not converge\", ConvergenceWarning)\n",
      "/Users/joycejiang/opt/anaconda3/lib/python3.7/site-packages/sklearn/linear_model/_sag.py:330: ConvergenceWarning: The max_iter was reached which means the coef_ did not converge\n",
      "  \"the coef_ did not converge\", ConvergenceWarning)\n",
      "/Users/joycejiang/opt/anaconda3/lib/python3.7/site-packages/sklearn/linear_model/_sag.py:330: ConvergenceWarning: The max_iter was reached which means the coef_ did not converge\n",
      "  \"the coef_ did not converge\", ConvergenceWarning)\n",
      "/Users/joycejiang/opt/anaconda3/lib/python3.7/site-packages/sklearn/linear_model/_sag.py:330: ConvergenceWarning: The max_iter was reached which means the coef_ did not converge\n",
      "  \"the coef_ did not converge\", ConvergenceWarning)\n",
      "/Users/joycejiang/opt/anaconda3/lib/python3.7/site-packages/sklearn/linear_model/_sag.py:330: ConvergenceWarning: The max_iter was reached which means the coef_ did not converge\n",
      "  \"the coef_ did not converge\", ConvergenceWarning)\n"
     ]
    },
    {
     "name": "stderr",
     "output_type": "stream",
     "text": [
      "/Users/joycejiang/opt/anaconda3/lib/python3.7/site-packages/sklearn/linear_model/_sag.py:330: ConvergenceWarning: The max_iter was reached which means the coef_ did not converge\n",
      "  \"the coef_ did not converge\", ConvergenceWarning)\n",
      "/Users/joycejiang/opt/anaconda3/lib/python3.7/site-packages/sklearn/linear_model/_sag.py:330: ConvergenceWarning: The max_iter was reached which means the coef_ did not converge\n",
      "  \"the coef_ did not converge\", ConvergenceWarning)\n",
      "/Users/joycejiang/opt/anaconda3/lib/python3.7/site-packages/sklearn/linear_model/_sag.py:330: ConvergenceWarning: The max_iter was reached which means the coef_ did not converge\n",
      "  \"the coef_ did not converge\", ConvergenceWarning)\n",
      "/Users/joycejiang/opt/anaconda3/lib/python3.7/site-packages/sklearn/linear_model/_sag.py:330: ConvergenceWarning: The max_iter was reached which means the coef_ did not converge\n",
      "  \"the coef_ did not converge\", ConvergenceWarning)\n",
      "/Users/joycejiang/opt/anaconda3/lib/python3.7/site-packages/sklearn/linear_model/_sag.py:330: ConvergenceWarning: The max_iter was reached which means the coef_ did not converge\n",
      "  \"the coef_ did not converge\", ConvergenceWarning)\n",
      "/Users/joycejiang/opt/anaconda3/lib/python3.7/site-packages/sklearn/linear_model/_sag.py:330: ConvergenceWarning: The max_iter was reached which means the coef_ did not converge\n",
      "  \"the coef_ did not converge\", ConvergenceWarning)\n"
     ]
    },
    {
     "name": "stdout",
     "output_type": "stream",
     "text": [
      "0.8185288933921522 {'l1_ratio': 0, 'penalty': 'elasticnet'}\n",
      "0.8185288933921522 {'l1_ratio': 0, 'penalty': 'elasticnet'}\n",
      "0.8185288933921522 {'l1_ratio': 0, 'penalty': 'elasticnet'}\n",
      "0.8185288933921522 {'l1_ratio': 0, 'penalty': 'elasticnet'}\n",
      "0.8185288933921522 {'l1_ratio': 0, 'penalty': 'elasticnet'}\n",
      "0.8185288933921522 {'l1_ratio': 0, 'penalty': 'elasticnet'}\n",
      "0.8185288933921522 {'l1_ratio': 0, 'penalty': 'elasticnet'}\n",
      "0.8185288933921522 {'l1_ratio': 0, 'penalty': 'elasticnet'}\n",
      "0.8185288933921522 {'l1_ratio': 0, 'penalty': 'elasticnet'}\n",
      "0.8185288933921522 {'l1_ratio': 0, 'penalty': 'elasticnet'}\n",
      "LogisticRegression(C=1.0, class_weight=None, dual=False, fit_intercept=True,\n",
      "                   intercept_scaling=1, l1_ratio=0, max_iter=100,\n",
      "                   multi_class='auto', n_jobs=None, penalty='elasticnet',\n",
      "                   random_state=None, solver='saga', tol=0.0001, verbose=0,\n",
      "                   warm_start=False)\n"
     ]
    },
    {
     "name": "stderr",
     "output_type": "stream",
     "text": [
      "/Users/joycejiang/opt/anaconda3/lib/python3.7/site-packages/sklearn/linear_model/_sag.py:330: ConvergenceWarning: The max_iter was reached which means the coef_ did not converge\n",
      "  \"the coef_ did not converge\", ConvergenceWarning)\n"
     ]
    },
    {
     "data": {
      "text/plain": [
       "['model/best_elasticnet_model.pkl']"
      ]
     },
     "execution_count": 156,
     "metadata": {},
     "output_type": "execute_result"
    }
   ],
   "source": [
    "# Define the range of parameter setting for Linear Regression model\n",
    "param_distribs = {\n",
    "    'penalty':['elasticnet'],\n",
    "    'l1_ratio':randint(low=0, high=1)\n",
    "    }\n",
    "clf=LogisticRegression(solver='saga')\n",
    "\n",
    "# Run RandomizedSearchCV method on Linear Regression by randomly selecting parameters within the range \n",
    "rnd_search = RandomizedSearchCV(clf, param_distributions=param_distribs,\n",
    "                                n_iter=10, cv=15, scoring='roc_auc', random_state=42)\n",
    "rnd_search.fit(treatment_prepared, treatment_labels)\n",
    "\n",
    "# Compute RMSE scores of all randomly performed parameter settings and print their RMSE values \n",
    "cvres = rnd_search.cv_results_\n",
    "for mean_score, params in zip(cvres[\"mean_test_score\"], cvres[\"params\"]):\n",
    "    print(mean_score, params)\n",
    "\n",
    "# Identify the best Linear Regression model from the models generated \n",
    "best_estimator = rnd_search.best_estimator_\n",
    "best_models.append(best_estimator)\n",
    "print(best_estimator)\n",
    "\n",
    "# Save the current best model for future usage \n",
    "joblib.dump(best_estimator,'model/best_elasticnet_model.pkl')"
   ]
  },
  {
   "cell_type": "markdown",
   "metadata": {},
   "source": [
    "Print the best models from the two rounds of cross-validation. \n",
    "\n",
    "Here we observe a pattern that both rounds identify Logistic Regression models with L2 penalty as the best models. Therefore, we will mainly use the model with L2 penalty for the test data. "
   ]
  },
  {
   "cell_type": "code",
   "execution_count": 157,
   "metadata": {},
   "outputs": [
    {
     "data": {
      "text/plain": [
       "[LogisticRegression(C=1.0, class_weight=None, dual=False, fit_intercept=True,\n",
       "                    intercept_scaling=1, l1_ratio=None, max_iter=100,\n",
       "                    multi_class='auto', n_jobs=None, penalty='l2',\n",
       "                    random_state=None, solver='lbfgs', tol=0.0001, verbose=0,\n",
       "                    warm_start=False),\n",
       " LogisticRegression(C=1.0, class_weight=None, dual=False, fit_intercept=True,\n",
       "                    intercept_scaling=1, l1_ratio=0, max_iter=100,\n",
       "                    multi_class='auto', n_jobs=None, penalty='elasticnet',\n",
       "                    random_state=None, solver='saga', tol=0.0001, verbose=0,\n",
       "                    warm_start=False)]"
      ]
     },
     "execution_count": 157,
     "metadata": {},
     "output_type": "execute_result"
    }
   ],
   "source": [
    "best_models"
   ]
  },
  {
   "cell_type": "markdown",
   "metadata": {},
   "source": [
    "### Step 6: Evalute Models on the Test Data"
   ]
  },
  {
   "cell_type": "markdown",
   "metadata": {},
   "source": [
    "#### AUC score, Confusion Matrix, Precision and Recall scores"
   ]
  },
  {
   "cell_type": "markdown",
   "metadata": {},
   "source": [
    "Read the saved model: Logistic Regression with L2 Penalty"
   ]
  },
  {
   "cell_type": "code",
   "execution_count": 158,
   "metadata": {},
   "outputs": [],
   "source": [
    "model=joblib.load('model/best_l2_model.pkl')"
   ]
  },
  {
   "cell_type": "markdown",
   "metadata": {},
   "source": [
    "Applied data transformation and full pipline transformation to the test data and define response (Y) and predictors (X) in the test data. Use the selected L2 model for predicting the response variable (treatment)"
   ]
  },
  {
   "cell_type": "code",
   "execution_count": 159,
   "metadata": {},
   "outputs": [],
   "source": [
    "df=data_transform(strat_test_set) # perform data pre-transformation \n",
    "X_test = df.drop(\"treatment\", axis=1) # separate dependent and independent variables \n",
    "y_test = df[\"treatment\"].copy()\n",
    "\n",
    "X_test_prepared = full_pipeline.transform(X_test) # perform data pipline transformation\n",
    "final_predictions = model.predict(X_test_prepared) # use the saved model to predict test data"
   ]
  },
  {
   "cell_type": "markdown",
   "metadata": {},
   "source": [
    "Use cross-validation method to collect a series of true positive and false postive rates with differnt threshold settings and assign true positive and false positive rates of different threholds to fpr and tpr arrays (Geron, 2019). \n",
    "\n",
    "Define a function to plot the ROC curve for the selected model (Geron, 2019)."
   ]
  },
  {
   "cell_type": "code",
   "execution_count": 160,
   "metadata": {},
   "outputs": [],
   "source": [
    "#Use cross-validation method to collect a series of true positive and false postive rates with differnt threshold settings (Geron, 2019)\n",
    "y_scores = cross_val_predict(model, X_test_prepared, y_test, cv=3,\n",
    "                             method=\"decision_function\")\n",
    "\n",
    "#Assign true positive and false positive rates of different threholds to fpr and tpr arrays (Geron, 2019)\n",
    "fpr, tpr, thresholds = roc_curve(y_test, y_scores)\n",
    "\n",
    "\n",
    "# Define a function to plot the ROC curve of the selected model (Geron, 2019)\n",
    "def plot_roc_curve(fpr, tpr, label=None):\n",
    "    plt.plot(fpr, tpr, linewidth=2, label=label)\n",
    "    plt.plot([0, 1], [0, 1], 'k--') # dashed diagonal\n",
    "    plt.axis([0, 1, 0, 1])                                    \n",
    "    plt.xlabel('False Positive Rate (Fall-Out)', fontsize=16) \n",
    "    plt.ylabel('True Positive Rate (Recall)', fontsize=16)    \n",
    "    plt.grid(True)                                            "
   ]
  },
  {
   "cell_type": "markdown",
   "metadata": {},
   "source": [
    "Plot the ROC curve of the selected Logistic Regression model with the L2 penalty.\n",
    "\n",
    "The ROC of the best model with the test data shows similar trend with the curves there were generated in the premilitary analysis on the training dataset, which means the best model is robust in classifying the treatment recommendation. "
   ]
  },
  {
   "cell_type": "code",
   "execution_count": 161,
   "metadata": {},
   "outputs": [
    {
     "data": {
      "image/png": "[encoded data removed]",
      "text/plain": [
       "<Figure size 576x432 with 1 Axes>"
      ]
     },
     "metadata": {
      "needs_background": "light"
     },
     "output_type": "display_data"
    }
   ],
   "source": [
    "plt.figure(figsize=(8, 6))                                \n",
    "plot_roc_curve(fpr, tpr)\n",
    "plt.show()"
   ]
  },
  {
   "cell_type": "markdown",
   "metadata": {},
   "source": [
    "Print the AUC, Precision, Recall, and F1 scores of the selected model.\n",
    "\n",
    "The best model receives an AUC score of 0.79 which is also close to the AUC scores of the training data, which double confirms the robustness of the Logistic Regression model with L2 penalty. "
   ]
  },
  {
   "cell_type": "code",
   "execution_count": 162,
   "metadata": {},
   "outputs": [
    {
     "name": "stdout",
     "output_type": "stream",
     "text": [
      "The AUC score of the best model is : 0.7910592686002522\n",
      "The precision score of the best model is : 0.6988847583643123\n",
      "The recall score of the best model is : 0.48205128205128206\n",
      "The F1 score of the best model is : 0.5705614567526555\n"
     ]
    }
   ],
   "source": [
    "from sklearn.metrics import f1_score\n",
    "\n",
    "print(\"The AUC score of the best model is : \" +str(roc_auc_score(y_test,y_scores)))\n",
    "print(\"The precision score of the best model is : \" +str(precision_score(y_test,final_predictions)))\n",
    "print(\"The recall score of the best model is : \" +str(recall_score(y_test,final_predictions)))\n",
    "print(\"The F1 score of the best model is : \" +str(f1_score(y_test,final_predictions)))"
   ]
  },
  {
   "cell_type": "markdown",
   "metadata": {},
   "source": [
    "Print the confusion matrix of the selected model"
   ]
  },
  {
   "cell_type": "code",
   "execution_count": 163,
   "metadata": {},
   "outputs": [
    {
     "data": {
      "text/plain": [
       "array([[529,  81],\n",
       "       [202, 188]])"
      ]
     },
     "execution_count": 163,
     "metadata": {},
     "output_type": "execute_result"
    }
   ],
   "source": [
    "from sklearn.metrics import confusion_matrix\n",
    "confusion_matrix(y_test,final_predictions)"
   ]
  },
  {
   "cell_type": "markdown",
   "metadata": {},
   "source": [
    "Plot the precision and recall vs threshold."
   ]
  },
  {
   "cell_type": "markdown",
   "metadata": {},
   "source": [
    "Conclusion: \n",
    "The model has a satisfying precision score, while the recall score that is slightly below 0.50 has more room for improvement. The relatively low recall score indicates that the model does not have an optimal performance in providing recommendation for patients who need treatment. At the same time, the precision score indicates that among all patients who have received recommendation based on the model classification, majority of them indeed need treatment as recommended. "
   ]
  },
  {
   "cell_type": "code",
   "execution_count": 164,
   "metadata": {},
   "outputs": [
    {
     "data": {
      "image/png": "[encoded data removed]",
      "text/plain": [
       "<Figure size 576x288 with 1 Axes>"
      ]
     },
     "metadata": {
      "needs_background": "light"
     },
     "output_type": "display_data"
    }
   ],
   "source": [
    "#Plot the precision and recall vs threshold (Geron, 2019)\n",
    "from sklearn.metrics import precision_recall_curve\n",
    "\n",
    "precisions, recalls, thresholds = precision_recall_curve(y_test,y_scores) #(Geron, 2019)\n",
    "\n",
    "def plot_precision_recall_vs_threshold(precisions, recalls, thresholds):\n",
    "    plt.plot(thresholds, precisions[:-1], \"b--\", label=\"Precision\", linewidth=2)\n",
    "    plt.plot(thresholds, recalls[:-1], \"g-\", label=\"Recall\", linewidth=2)\n",
    "    plt.legend(loc=\"center right\", fontsize=16)\n",
    "    plt.xlabel(\"Threshold\", fontsize=16)      \n",
    "    plt.grid(True)                            \n",
    "    plt.axis([-5, 5, 0, 1])            \n",
    "\n",
    "\n",
    "plt.figure(figsize=(8, 4))                                                                  \n",
    "plot_precision_recall_vs_threshold(precisions, recalls, thresholds)         \n",
    "plt.show()"
   ]
  },
  {
   "cell_type": "markdown",
   "metadata": {},
   "source": [
    "#### Feature Importance\n",
    "\n",
    "Brownlee, J. (2020). How to Calculate Feature Importance With Python. Machine Learning Mastery. Retrieved from https://machinelearningmastery.com/calculate-feature-importance-with-python/"
   ]
  },
  {
   "cell_type": "markdown",
   "metadata": {},
   "source": [
    "This project use coefficient scores for feature importance measurement (Brownlee, 2020). \n",
    "\n",
    "By comparing five numerical and two categorical variables of the four models, TestB (absolute value), Gender, Age, Blood Pressure are the most important features in the best model. "
   ]
  },
  {
   "cell_type": "code",
   "execution_count": 165,
   "metadata": {},
   "outputs": [],
   "source": [
    "importance = model.coef_\n",
    "\n",
    "feartures=['age','blood_pressure','TestB','GeneB','GeneC','female','non-female','blood_test_negative','blood_test_positive','GeneA_none','GeneA_double','GeneA_single']\n",
    "dictionary = list(zip(feartures,importance[0]))\n",
    "importance_df=pd.DataFrame(dictionary, columns=['feartures','importance'])"
   ]
  },
  {
   "cell_type": "code",
   "execution_count": 166,
   "metadata": {
    "scrolled": true
   },
   "outputs": [
    {
     "data": {
      "text/html": [
       "<div>\n",
       "<style scoped>\n",
       "    .dataframe tbody tr th:only-of-type {\n",
       "        vertical-align: middle;\n",
       "    }\n",
       "\n",
       "    .dataframe tbody tr th {\n",
       "        vertical-align: top;\n",
       "    }\n",
       "\n",
       "    .dataframe thead th {\n",
       "        text-align: right;\n",
       "    }\n",
       "</style>\n",
       "<table border=\"1\" class=\"dataframe\">\n",
       "  <thead>\n",
       "    <tr style=\"text-align: right;\">\n",
       "      <th></th>\n",
       "      <th>feartures</th>\n",
       "      <th>importance</th>\n",
       "    </tr>\n",
       "  </thead>\n",
       "  <tbody>\n",
       "    <tr>\n",
       "      <th>0</th>\n",
       "      <td>age</td>\n",
       "      <td>-0.456847</td>\n",
       "    </tr>\n",
       "    <tr>\n",
       "      <th>1</th>\n",
       "      <td>blood_pressure</td>\n",
       "      <td>0.374746</td>\n",
       "    </tr>\n",
       "    <tr>\n",
       "      <th>2</th>\n",
       "      <td>TestB</td>\n",
       "      <td>1.022731</td>\n",
       "    </tr>\n",
       "    <tr>\n",
       "      <th>3</th>\n",
       "      <td>GeneB</td>\n",
       "      <td>0.087800</td>\n",
       "    </tr>\n",
       "    <tr>\n",
       "      <th>4</th>\n",
       "      <td>GeneC</td>\n",
       "      <td>0.133591</td>\n",
       "    </tr>\n",
       "    <tr>\n",
       "      <th>5</th>\n",
       "      <td>female</td>\n",
       "      <td>-0.918664</td>\n",
       "    </tr>\n",
       "    <tr>\n",
       "      <th>6</th>\n",
       "      <td>non-female</td>\n",
       "      <td>0.918519</td>\n",
       "    </tr>\n",
       "    <tr>\n",
       "      <th>7</th>\n",
       "      <td>blood_test_negative</td>\n",
       "      <td>0.337742</td>\n",
       "    </tr>\n",
       "    <tr>\n",
       "      <th>8</th>\n",
       "      <td>blood_test_positive</td>\n",
       "      <td>-0.337888</td>\n",
       "    </tr>\n",
       "  </tbody>\n",
       "</table>\n",
       "</div>"
      ],
      "text/plain": [
       "             feartures  importance\n",
       "0                  age   -0.456847\n",
       "1       blood_pressure    0.374746\n",
       "2                TestB    1.022731\n",
       "3                GeneB    0.087800\n",
       "4                GeneC    0.133591\n",
       "5               female   -0.918664\n",
       "6           non-female    0.918519\n",
       "7  blood_test_negative    0.337742\n",
       "8  blood_test_positive   -0.337888"
      ]
     },
     "execution_count": 166,
     "metadata": {},
     "output_type": "execute_result"
    }
   ],
   "source": [
    "importance_df"
   ]
  }
 ],
 "metadata": {
  "kernelspec": {
   "display_name": "Python 3",
   "language": "python",
   "name": "python3"
  },
  "language_info": {
   "codemirror_mode": {
    "name": "ipython",
    "version": 3
   },
   "file_extension": ".py",
   "mimetype": "text/x-python",
   "name": "python",
   "nbconvert_exporter": "python",
   "pygments_lexer": "ipython3",
   "version": "3.7.6"
  }
 },
 "nbformat": 4,
 "nbformat_minor": 4
}
